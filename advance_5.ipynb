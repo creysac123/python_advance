{
 "cells": [
  {
   "cell_type": "markdown",
   "id": "994d42ee-c1cf-47ee-8faf-7209f4760c47",
   "metadata": {},
   "source": [
    "### Q1. What is the meaning of multiple inheritance?"
   ]
  },
  {
   "cell_type": "markdown",
   "id": "32a6d755-e6ed-4d46-988b-7900955f2c0d",
   "metadata": {},
   "source": [
    "Multiple inheritance allows a class to inherit from multiple parent classes, combining their attributes and behaviors. It promotes code reuse and flexibility but requires careful handling of potential conflicts."
   ]
  },
  {
   "cell_type": "code",
   "execution_count": 1,
   "id": "1c11c0d9-cc5a-45e4-be5b-c23db148e9af",
   "metadata": {},
   "outputs": [],
   "source": [
    "class Parent_one:\n",
    "    pass\n",
    "class Parent_two:\n",
    "    pass\n",
    "class child(Parent_one,Parent_two):\n",
    "    pass"
   ]
  },
  {
   "cell_type": "markdown",
   "id": "775e2c55-091d-46ca-9ea6-4fef9bb7b0d6",
   "metadata": {},
   "source": [
    "### Q2. What is the concept of delegation?"
   ]
  },
  {
   "cell_type": "markdown",
   "id": "1c9de26b-0947-4ba5-a859-5ec1cac49965",
   "metadata": {},
   "source": [
    "Delegation is a design pattern where an object forwards a task to another object to perform. It promotes code reuse, modularity, and loose coupling between objects."
   ]
  },
  {
   "cell_type": "code",
   "execution_count": 2,
   "id": "96ddab7e-7d77-4932-ad97-458bac45808c",
   "metadata": {},
   "outputs": [
    {
     "name": "stdout",
     "output_type": "stream",
     "text": [
      "Printing: Report.pdf\n"
     ]
    }
   ],
   "source": [
    "class Printer:\n",
    "    def print_document(self, document):\n",
    "        print(\"Printing:\", document)\n",
    "\n",
    "\n",
    "class OfficeWorker:\n",
    "    def __init__(self, printer):\n",
    "        self.printer = printer\n",
    "\n",
    "    def perform_printing(self, document):\n",
    "        self.printer.print_document(document)\n",
    "\n",
    "\n",
    "printer = Printer()\n",
    "worker = OfficeWorker(printer)\n",
    "worker.perform_printing(\"Report.pdf\")\n"
   ]
  },
  {
   "cell_type": "markdown",
   "id": "ab3d907d-aeeb-4971-b15c-6ed6aafed14d",
   "metadata": {},
   "source": [
    "### Q3. What is the concept of composition?"
   ]
  },
  {
   "cell_type": "markdown",
   "id": "e171105b-f022-4a56-8412-ca09b4f8213a",
   "metadata": {},
   "source": [
    "In the concept of Composition, a class refers to one or more other classes by using instances of those classes as a instance variable. irrespective of inheritence in this approach all the parent class members are not inherited into child class, but only required methods from a class are used by using class instances."
   ]
  },
  {
   "cell_type": "code",
   "execution_count": 3,
   "id": "096c8900-ea10-4d1d-aae3-6d74769308a5",
   "metadata": {},
   "outputs": [
    {
     "name": "stdout",
     "output_type": "stream",
     "text": [
      "Starting the car.\n",
      "Engine started.\n",
      "Stopping the car.\n",
      "Engine stopped.\n"
     ]
    }
   ],
   "source": [
    "class Engine:\n",
    "    def start(self):\n",
    "        print(\"Engine started.\")\n",
    "\n",
    "    def stop(self):\n",
    "        print(\"Engine stopped.\")\n",
    "\n",
    "\n",
    "class Car:\n",
    "    def __init__(self):\n",
    "        self.engine = Engine()\n",
    "\n",
    "    def start(self):\n",
    "        print(\"Starting the car.\")\n",
    "        self.engine.start()\n",
    "\n",
    "    def stop(self):\n",
    "        print(\"Stopping the car.\")\n",
    "        self.engine.stop()\n",
    "\n",
    "\n",
    "car = Car()\n",
    "car.start()\n",
    "car.stop()\n"
   ]
  },
  {
   "cell_type": "markdown",
   "id": "3ac91266-4990-491c-986e-fb8fb01c3ebd",
   "metadata": {},
   "source": [
    "### Q4. What are bound methods and how do we use them?"
   ]
  },
  {
   "cell_type": "markdown",
   "id": "c21b5b87-b343-4c8d-955c-1b3ab098e52f",
   "metadata": {},
   "source": [
    "Bound methods are methods associated with an instance of a class. They are used to define instance-specific behaviors and actions. To use a bound method, you simply invoke it on an instance, and the instance is automatically passed as the first argument to the method. This allows the method to access and manipulate the instance's attributes and perform actions specific to that instance."
   ]
  },
  {
   "cell_type": "code",
   "execution_count": 4,
   "id": "a4b4d250-46a5-436e-b68c-9e51a373e7f1",
   "metadata": {},
   "outputs": [
    {
     "name": "stdout",
     "output_type": "stream",
     "text": [
      "15\n"
     ]
    }
   ],
   "source": [
    "class Rectangle:\n",
    "    def __init__(self, width, height):\n",
    "        self.width = width\n",
    "        self.height = height\n",
    "\n",
    "    def area(self):\n",
    "        return self.width * self.height\n",
    "\n",
    "\n",
    "rect = Rectangle(5, 3)\n",
    "print(rect.area())  \n"
   ]
  },
  {
   "cell_type": "markdown",
   "id": "ec257fc4-39b0-414e-91e4-c49c65c2a6a5",
   "metadata": {},
   "source": [
    "### Q5. What is the purpose of pseudoprivate attributes?"
   ]
  },
  {
   "cell_type": "markdown",
   "id": "0bc7dd39-ef62-4b94-a547-47dc933f90f0",
   "metadata": {},
   "source": [
    "Pseudoprivate attributes, marked with a double underscore prefix (__), are used in Python to indicate that an attribute is intended for internal use within a class. Although not truly private, they discourage direct access from outside the class, promoting encapsulation and preventing unintended modifications."
   ]
  },
  {
   "cell_type": "code",
   "execution_count": 5,
   "id": "47da6452-7d88-4ae4-8cae-6c10ad206a15",
   "metadata": {},
   "outputs": [
    {
     "name": "stdout",
     "output_type": "stream",
     "text": [
      "I'm a secret!\n",
      "Attribute access error: The attribute is not accessible.\n"
     ]
    }
   ],
   "source": [
    "class MyClass:\n",
    "    def __init__(self):\n",
    "        self.__secret = \"I'm a secret!\"\n",
    "\n",
    "    def get_secret(self):\n",
    "        return self.__secret\n",
    "\n",
    "\n",
    "obj = MyClass()\n",
    "\n",
    "try:\n",
    "    print(obj.get_secret())  # Output: I'm a secret!\n",
    "    print(obj.__secret)  # Error: AttributeError\n",
    "except AttributeError:\n",
    "    print(\"Attribute access error: The attribute is not accessible.\")\n"
   ]
  },
  {
   "cell_type": "code",
   "execution_count": null,
   "id": "8f7c2a36-8977-462e-88ae-6d14858c5bad",
   "metadata": {},
   "outputs": [],
   "source": []
  }
 ],
 "metadata": {
  "kernelspec": {
   "display_name": "Python 3 (ipykernel)",
   "language": "python",
   "name": "python3"
  },
  "language_info": {
   "codemirror_mode": {
    "name": "ipython",
    "version": 3
   },
   "file_extension": ".py",
   "mimetype": "text/x-python",
   "name": "python",
   "nbconvert_exporter": "python",
   "pygments_lexer": "ipython3",
   "version": "3.10.6"
  }
 },
 "nbformat": 4,
 "nbformat_minor": 5
}
