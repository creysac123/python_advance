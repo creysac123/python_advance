{
 "cells": [
  {
   "cell_type": "markdown",
   "id": "a24b1974-2d4c-4b1a-a7ac-ebd9005dd0f4",
   "metadata": {},
   "source": [
    "### Q1. Does assigning a value to a string&#39;s indexed character violate Python&#39;s string immutability?"
   ]
  },
  {
   "cell_type": "markdown",
   "id": "21eac947-1e58-4253-9a3c-513cbb8e27d9",
   "metadata": {},
   "source": [
    "Yes, assigning a value to a string's indexed character violates its immutability. Here's a simple example:"
   ]
  },
  {
   "cell_type": "code",
   "execution_count": 2,
   "id": "14aaaefa-f45c-4739-9471-b0f2105f4762",
   "metadata": {},
   "outputs": [
    {
     "name": "stdout",
     "output_type": "stream",
     "text": [
      "Strings are immutable. Cannot assign value to indexed character.\n"
     ]
    }
   ],
   "source": [
    "string = \"Hello\"\n",
    "try:\n",
    "    string[0] = \"J\"\n",
    "except TypeError:\n",
    "    print(\"Strings are immutable. Cannot assign value to indexed character.\")\n"
   ]
  },
  {
   "cell_type": "markdown",
   "id": "8780da31-545b-4b43-8e07-a30136a2b5e0",
   "metadata": {},
   "source": [
    "### Q2. Does using the += operator to concatenate strings violate Python&#39;s string immutability? Why or why not?"
   ]
  },
  {
   "cell_type": "markdown",
   "id": "e13a1fd9-4650-4bb5-93d9-1c9f7fd35509",
   "metadata": {},
   "source": [
    "No, using the += operator to concatenate strings does not violate Python's string immutability. Although strings are immutable in Python, the += operator performs a concatenation operation in a way that creates a new string object instead of modifying the original string."
   ]
  },
  {
   "cell_type": "code",
   "execution_count": 4,
   "id": "52436ce5-a4cd-4181-8370-e6065bb98ac9",
   "metadata": {},
   "outputs": [
    {
     "name": "stdout",
     "output_type": "stream",
     "text": [
      "Hello World\n",
      "HelloWorld\n",
      "Hello\n",
      "139690054450928\n",
      "139690054347056\n"
     ]
    }
   ],
   "source": [
    "s1 = \"Hello\"\n",
    "s2 = \"World\"\n",
    "s3 = s1 + \" \" + s2\n",
    "s4 = s1\n",
    "s4 += s2\n",
    "\n",
    "print(s3)  \n",
    "print(s4) \n",
    "print(s1) \n",
    "print(id(s2))\n",
    "print(id(s4))"
   ]
  },
  {
   "cell_type": "markdown",
   "id": "6bbc1000-3d47-4c1f-a3d7-6fb14c11a57d",
   "metadata": {},
   "source": [
    "### Q3. In Python, how many different ways are there to index a character?"
   ]
  },
  {
   "cell_type": "markdown",
   "id": "42b1f009-b8e1-4129-b40f-b69bf739c3a3",
   "metadata": {},
   "source": [
    "In Python, there are two ways to index a character in a string:\n",
    "\n",
    "- Positive Indexing: Characters in a string can be accessed using positive indices starting from 0 for the first character.\n",
    "\n",
    "- Negative Indexing: Characters can also be accessed using negative indices, starting from -1 for the last character."
   ]
  },
  {
   "cell_type": "code",
   "execution_count": 6,
   "id": "a0b71f16-0404-45cf-961b-2046f43925eb",
   "metadata": {},
   "outputs": [
    {
     "name": "stdout",
     "output_type": "stream",
     "text": [
      "H\n",
      "o\n",
      "l\n",
      "l\n"
     ]
    }
   ],
   "source": [
    "s = \"Hello\"\n",
    "print(s[0])    \n",
    "print(s[-1])   \n",
    "print(s[2])    \n",
    "print(s[-3])   \n"
   ]
  },
  {
   "cell_type": "markdown",
   "id": "4b8976f0-73c5-4923-ad64-74c90459d18a",
   "metadata": {},
   "source": [
    "### Q4. What is the relationship between indexing and slicing?"
   ]
  },
  {
   "cell_type": "markdown",
   "id": "292555f1-571b-430a-a7c9-5e85081fc15a",
   "metadata": {},
   "source": [
    "Indexing and slicing are related concepts in Python used to access specific elements or subsequences of a sequence. Indexing retrieves a single element at a specific position, while slicing extracts a subsequence by specifying a range of indices. Slicing builds upon indexing, allowing you to retrieve multiple elements or a portion of the sequence."
   ]
  },
  {
   "cell_type": "code",
   "execution_count": 7,
   "id": "6dd98a91-e8bd-40d4-be5f-006a231832a4",
   "metadata": {},
   "outputs": [
    {
     "name": "stdout",
     "output_type": "stream",
     "text": [
      "H\n",
      "World\n"
     ]
    }
   ],
   "source": [
    "s = \"Hello, World!\"\n",
    "print(s[0])       \n",
    "print(s[7:12])     \n"
   ]
  },
  {
   "cell_type": "markdown",
   "id": "a14bf049-c6fa-4e54-978d-81fe23ccbad0",
   "metadata": {},
   "source": [
    "### Q5. What is an indexed character&#39;s exact data type? What is the data form of a slicing-generated substring?"
   ]
  },
  {
   "cell_type": "markdown",
   "id": "e2cdfcbd-6814-4b79-a3ec-02a18af15f39",
   "metadata": {},
   "source": [
    "In Python, an indexed character is represented as a single character string, meaning its exact data type is a string. When slicing a string to generate a substring, the resulting data form is also a string."
   ]
  },
  {
   "cell_type": "code",
   "execution_count": 8,
   "id": "fb253dd7-b73a-470b-8f8e-f59e37177ed2",
   "metadata": {},
   "outputs": [
    {
     "name": "stdout",
     "output_type": "stream",
     "text": [
      "<class 'str'>\n",
      "<class 'str'>\n"
     ]
    }
   ],
   "source": [
    "in_string = \"iNeuron Full Stack Data Science\"\n",
    "print(type(in_string[3])) \n",
    "print(type(in_string[1:10])) "
   ]
  },
  {
   "cell_type": "markdown",
   "id": "706ba3ce-05a7-438c-88ac-f6a03697a3af",
   "metadata": {},
   "source": [
    "### Q6. What is the relationship between string and character &quot;types&quot; in Python?"
   ]
  },
  {
   "cell_type": "markdown",
   "id": "2a541926-0e7f-4e6f-900e-5742dd6132bf",
   "metadata": {},
   "source": [
    "In Python, a string is a collection of characters. Each character in a string is treated as a separate entity and can be accessed individually. Therefore, there is a relationship between strings and characters in Python, where a string is composed of multiple characters."
   ]
  },
  {
   "cell_type": "markdown",
   "id": "eaa07720-0a83-4e7e-8914-854560be9851",
   "metadata": {},
   "source": [
    "### Q7. Identify at least two operators & one method that allow you to combine one or more smaller strings to create a larger string ?"
   ]
  },
  {
   "cell_type": "markdown",
   "id": "43612009-c2f6-466e-b55d-532f088dbc82",
   "metadata": {},
   "source": [
    "Two operators that allow you to combine smaller strings into a larger string are the + operator and the += operator. The + operator can be used to concatenate two strings together, while the += operator can be used to concatenate a string to an existing string.\n",
    "\n",
    "One method that allows you to combine smaller strings is the join() method. The join() method takes an iterable of strings and concatenates them using a specified delimiter."
   ]
  },
  {
   "cell_type": "code",
   "execution_count": 9,
   "id": "f21b9f94-1de3-49df-a30b-f7ab14dcf281",
   "metadata": {},
   "outputs": [
    {
     "name": "stdout",
     "output_type": "stream",
     "text": [
      "Hello World\n",
      "Hello World\n",
      "Hello World\n"
     ]
    }
   ],
   "source": [
    "string1 = \"Hello\"\n",
    "string2 = \"World\"\n",
    "result1 = string1 + \" \" + string2\n",
    "print(result1)  # Output: Hello World\n",
    "\n",
    "string3 = \"Hello\"\n",
    "string4 = \"World\"\n",
    "string3 += \" \" + string4\n",
    "print(string3)  # Output: Hello World\n",
    "\n",
    "words = [\"Hello\", \"World\"]\n",
    "result2 = \" \".join(words)\n",
    "print(result2)  # Output: Hello World\n"
   ]
  },
  {
   "cell_type": "markdown",
   "id": "b6b63f7d-9e9e-434b-a342-3c722f31f7c0",
   "metadata": {},
   "source": [
    "### Q8. What is the benefit of first checking the target string with in or not in before using the index method to find a substring?"
   ]
  },
  {
   "cell_type": "markdown",
   "id": "5ac995d4-5a08-4614-8f94-3f66491e1996",
   "metadata": {},
   "source": [
    "Checking the target string with in or not in before using the index() method helps prevent a ValueError.\n",
    "\n",
    "By using the in or not in operators, you can determine if a substring exists in the target string without raising an exception. This allows you to handle the presence or absence of the substring in a controlled manner, rather than abruptly terminating the program with an error."
   ]
  },
  {
   "cell_type": "code",
   "execution_count": 11,
   "id": "77fed031-9428-465b-880c-c58f62546f1c",
   "metadata": {},
   "outputs": [
    {
     "name": "stdout",
     "output_type": "stream",
     "text": [
      "Substring found at index 7\n"
     ]
    }
   ],
   "source": [
    "string = \"Hello, World!\"\n",
    "\n",
    "# Check if substring exists before using index()\n",
    "if \"W\" in string:\n",
    "    index = string.index(\"W\")\n",
    "    print(f\"Substring found at index {index}\")\n",
    "else:\n",
    "    print(\"Substring not found\")\n"
   ]
  },
  {
   "cell_type": "markdown",
   "id": "4fa4c559-a559-4272-9724-8a3c2f0832cf",
   "metadata": {},
   "source": [
    "### Q9. Which operators and built-in string methods produce simple Boolean (true/false) results?"
   ]
  },
  {
   "cell_type": "markdown",
   "id": "ea326efb-32e5-44d1-9a71-2461ce25840c",
   "metadata": {},
   "source": [
    "String Methods:\n",
    "- startswith(): Checks if a string starts with a specific prefix.\n",
    "- endswith(): Checks if a string ends with a specific suffix.\n",
    "- isalpha(): Checks if a string contains only alphabetic characters.\n",
    "- isdigit(): Checks if a string contains only digits.\n",
    "- isalnum(): Checks if a string contains only alphanumeric characters.\n",
    "- islower(): Checks if all characters in a string are lowercase.\n",
    "- isupper(): Checks if all characters in a string are uppercase.\n",
    "- isspace(): Checks if a string contains only whitespace characters.\n",
    "- in\n",
    "- not"
   ]
  },
  {
   "cell_type": "markdown",
   "id": "8dc84e1f-bda4-4adb-93cf-c8743629da4d",
   "metadata": {},
   "source": [
    "Comparison Operators:\n",
    "\n",
    "- == (equal to)\n",
    "- != (not equal to)\n",
    "- `<` (less than)\n",
    "- `>` (greater than)\n",
    "- <= (less than or equal to)\n",
    "- `>=` (greater than or equal to)"
   ]
  },
  {
   "cell_type": "code",
   "execution_count": null,
   "id": "70732eb0-af5c-4e8f-b57e-d39b5f62b4cb",
   "metadata": {},
   "outputs": [],
   "source": []
  }
 ],
 "metadata": {
  "kernelspec": {
   "display_name": "Python 3 (ipykernel)",
   "language": "python",
   "name": "python3"
  },
  "language_info": {
   "codemirror_mode": {
    "name": "ipython",
    "version": 3
   },
   "file_extension": ".py",
   "mimetype": "text/x-python",
   "name": "python",
   "nbconvert_exporter": "python",
   "pygments_lexer": "ipython3",
   "version": "3.10.6"
  }
 },
 "nbformat": 4,
 "nbformat_minor": 5
}
