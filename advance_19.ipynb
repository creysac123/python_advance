{
 "cells": [
  {
   "cell_type": "markdown",
   "id": "7bd43381-cb7f-468e-90b6-4ce2cb6fc558",
   "metadata": {},
   "source": [
    "### Q1. Define the relationship between a class and its instances. Is it a one-to-one or a one-to-many partnership, for example?"
   ]
  },
  {
   "cell_type": "markdown",
   "id": "3ba938d8-7a41-49ca-bebd-1fa538716681",
   "metadata": {},
   "source": [
    "\n",
    "\n",
    "The relationship between a class and its instances can be described as a one-to-many partnership. A class is a blueprint or template that defines the structure and behavior of objects, while instances are individual objects created based on that class. Each instance is a separate entity with its own unique set of data and can have different state and behavior compared to other instances of the same class. Therefore, for a given class, there can be multiple instances, each representing a distinct object with its own characteristics and properties."
   ]
  },
  {
   "cell_type": "markdown",
   "id": "d8a76343-472e-4d6a-911a-b01da5369865",
   "metadata": {},
   "source": [
    "### Q2. What kind of data is held only in an instance?"
   ]
  },
  {
   "cell_type": "markdown",
   "id": "0cc4e509-bee9-45ee-be83-893597bc7823",
   "metadata": {},
   "source": [
    "The data held only in an instance is typically referred to as instance data or instance variables. These are specific to each individual instance of a class and represent the unique state or characteristics of that instance. Instance data can vary between different instances of the same class, allowing each instance to hold its own set of values. "
   ]
  },
  {
   "cell_type": "markdown",
   "id": "966247b6-967f-4706-813f-3f9078b41856",
   "metadata": {},
   "source": [
    "### Q3. What kind of knowledge is stored in a class?"
   ]
  },
  {
   "cell_type": "markdown",
   "id": "b5b07dd8-f120-4555-9bcf-8df19912a466",
   "metadata": {},
   "source": [
    "A class stores the knowledge or blueprint for creating and interacting with objects of that class. It defines the attributes and behaviors that characterize the objects, allowing them to be created, manipulated, and used in a consistent and structured manner."
   ]
  },
  {
   "cell_type": "markdown",
   "id": "6e1f2056-713c-4fc8-800f-3c56e7a96a66",
   "metadata": {},
   "source": [
    "### Q4. What exactly is a method, and how is it different from a regular function?"
   ]
  },
  {
   "cell_type": "markdown",
   "id": "cfac963e-35e0-4f39-9f20-38779a3781d2",
   "metadata": {},
   "source": [
    "Methods are functions that are specifically associated with objects or classes and provide behavior and functionality tied to the class's purpose. They enable encapsulation, modularity, and object-oriented programming concepts by allowing objects to perform actions and interact with their own state."
   ]
  },
  {
   "cell_type": "markdown",
   "id": "447d8adc-b531-4ea5-b656-a7aca3521a58",
   "metadata": {},
   "source": [
    "### Q5. Is inheritance supported in Python, and if so, what is the syntax?"
   ]
  },
  {
   "cell_type": "markdown",
   "id": "35fa98fc-a7fa-4834-a270-e733bef63434",
   "metadata": {},
   "source": [
    "\n",
    "\n",
    "Yes, inheritance is supported in Python. The syntax for defining a class with inheritance is as follows:"
   ]
  },
  {
   "cell_type": "code",
   "execution_count": 1,
   "id": "cf7123f1-4f1a-481b-a0d6-212f3a1f44a1",
   "metadata": {},
   "outputs": [
    {
     "name": "stdout",
     "output_type": "stream",
     "text": [
      "Making sound...\n",
      "Barking...\n"
     ]
    }
   ],
   "source": [
    "class Animal:\n",
    "    def sound(self):\n",
    "        print(\"Making sound...\")\n",
    "\n",
    "\n",
    "class Dog(Animal):\n",
    "    def bark(self):\n",
    "        print(\"Barking...\")\n",
    "\n",
    "\n",
    "dog = Dog()\n",
    "dog.sound()  # Inherited from Animal class\n",
    "dog.bark()   # Defined in Dog class\n"
   ]
  },
  {
   "cell_type": "markdown",
   "id": "b09eeeb9-ea41-4c5c-9c54-bcec161a0817",
   "metadata": {},
   "source": [
    "### Q6. How much encapsulation (making instance or class variables private) does Python support?"
   ]
  },
  {
   "cell_type": "markdown",
   "id": "cd3458da-70a0-44a5-a47f-8bdb0c133f09",
   "metadata": {},
   "source": [
    "In Python, encapsulation of instance or class variables is achieved through naming conventions rather than strict access modifiers. Python supports a moderate level of encapsulation by using a single underscore prefix (_) to indicate variables that are intended to be private. However, Python does not enforce strict access control for these variables, and they can still be accessed and modified from outside the class or object. The use of the underscore prefix serves as a convention to indicate that the variable should be treated as private and accessed with caution."
   ]
  },
  {
   "cell_type": "markdown",
   "id": "b3b8f6a9-1b0b-49e8-b168-7a896af94a04",
   "metadata": {},
   "source": [
    "### Q7. How do you distinguish between a class variable and an instance variable?"
   ]
  },
  {
   "cell_type": "markdown",
   "id": "4e9bdaa6-2aa9-4333-8f2e-73f52698c932",
   "metadata": {},
   "source": [
    "- Class Variables: Shared by all instances of a class. Accessed using the class name. Defined outside the constructor method. Used for data common to all objects of the class.\n",
    "\n",
    "- Instance Variables: Belong to individual instances of a class. Accessed using the instance name. Defined within methods, usually within the constructor method. Used for data specific to each object or instance of the class."
   ]
  },
  {
   "cell_type": "markdown",
   "id": "4e974b38-2bdf-4288-81fd-184be6a20524",
   "metadata": {},
   "source": [
    "### Q8. When, if ever, can self be included in a class's method definitions?"
   ]
  },
  {
   "cell_type": "markdown",
   "id": "512b569a-b1c8-42cc-a945-d6cc68910cda",
   "metadata": {},
   "source": [
    "In Python, the self parameter is typically included as the first parameter in a class's method definitions. It represents the instance of the class on which the method is being called. By convention, it is named self, but you can use any valid variable name.\n",
    "\n",
    "Including self in method definitions is necessary to access and manipulate the instance variables and other methods within the class. It allows the method to operate on the specific instance or object of the class that called it."
   ]
  },
  {
   "cell_type": "markdown",
   "id": "607dd61f-c659-4e43-ab60-54f0cee04401",
   "metadata": {},
   "source": [
    "### Q9. What is the difference between the __add__ and the __radd__ methods ?"
   ]
  },
  {
   "cell_type": "markdown",
   "id": "2c3dd716-26e8-425e-8f06-6a258ba9ffa6",
   "metadata": {},
   "source": [
    "`__add__` handles addition when the object is on the left side, while `__radd__` handles addition when the object is on the right side and the left-side object does not implement `__add__`."
   ]
  },
  {
   "cell_type": "code",
   "execution_count": 2,
   "id": "1e6fa429-f01e-4e24-9911-7b4f4b38b891",
   "metadata": {},
   "outputs": [
    {
     "name": "stdout",
     "output_type": "stream",
     "text": [
      "15\n",
      "30\n"
     ]
    }
   ],
   "source": [
    "class MyClass:\n",
    "    def __init__(self, value):\n",
    "        self.value = value\n",
    "\n",
    "    def __add__(self, other):\n",
    "        return self.value + other\n",
    "\n",
    "    def __radd__(self, other):\n",
    "        return other + self.value\n",
    "\n",
    "obj1 = MyClass(10)\n",
    "obj2 = MyClass(20)\n",
    "\n",
    "result1 = obj1 + 5     # obj1.__add__(5)\n",
    "result2 = 10 + obj2    # 10.__add__(obj2)\n",
    "\n",
    "print(result1)  # Output: 15\n",
    "print(result2)  # Output: 30\n"
   ]
  },
  {
   "cell_type": "markdown",
   "id": "4a6454f0-b1b7-4b1c-8bd5-36558caa6e9b",
   "metadata": {},
   "source": [
    "### Q10. When is it necessary to use a reflection method? When do you not need it, even though you support the operation in question?"
   ]
  },
  {
   "cell_type": "markdown",
   "id": "776586de-8b91-43ec-8dc1-b25522d41d00",
   "metadata": {},
   "source": [
    "\n",
    "\n",
    "Reflection methods in Python, such as __getattr__, __setattr__, and __delattr__, are used to customize attribute access, assignment, or deletion. Their usage depends on the specific requirements of the program. You need to use reflection methods when you want to dynamically handle or customize these attribute operations. However, if the default behavior provided by Python's attribute handling mechanism is sufficient for your object, you may not need to define these reflection methods. It's important to consider the specific needs of your program when deciding whether to use reflection methods or rely on the default behavior."
   ]
  },
  {
   "cell_type": "markdown",
   "id": "24848028-0abb-41d0-93a4-bf6e702c9817",
   "metadata": {},
   "source": [
    "### Q11. What is the __iadd__ method called?"
   ]
  },
  {
   "cell_type": "markdown",
   "id": "b7381987-8eb3-456e-88a2-21d42f4e7a13",
   "metadata": {},
   "source": [
    "The __iadd__ method is called when the += operator is used to perform in-place addition on an object. It is a special method defined in Python classes to implement the in-place addition operation. The __iadd__ method updates the object itself with the result of the addition, instead of creating a new object."
   ]
  },
  {
   "cell_type": "markdown",
   "id": "cf9a3683-272c-4db5-8ee8-d7d933fc217c",
   "metadata": {},
   "source": [
    "### Q12. Is the _ _init_ _ method inherited by subclasses? What do you do if you need to customize its behavior within a subclass ?"
   ]
  },
  {
   "cell_type": "markdown",
   "id": "14984695-6f58-46cc-ab05-95c6f51bc16c",
   "metadata": {},
   "source": [
    "Yes, the `__init_`_ method is inherited by subclasses in Python. To customize its behavior within a subclass, you can define a new `__init__` method in the subclass. By doing this, you can override the inherited `__init__` method and provide your own implementation specific to the subclass. In the subclass `__init__` method, you can use the super() function to call the `__init__` method of the parent class and then add any additional code or modifications as needed."
   ]
  },
  {
   "cell_type": "code",
   "execution_count": null,
   "id": "408c18a6-7a21-4030-b1ba-358d604a2b6a",
   "metadata": {},
   "outputs": [],
   "source": []
  }
 ],
 "metadata": {
  "kernelspec": {
   "display_name": "Python 3 (ipykernel)",
   "language": "python",
   "name": "python3"
  },
  "language_info": {
   "codemirror_mode": {
    "name": "ipython",
    "version": 3
   },
   "file_extension": ".py",
   "mimetype": "text/x-python",
   "name": "python",
   "nbconvert_exporter": "python",
   "pygments_lexer": "ipython3",
   "version": "3.10.6"
  }
 },
 "nbformat": 4,
 "nbformat_minor": 5
}
