{
 "cells": [
  {
   "cell_type": "markdown",
   "id": "eb3b87a9-1dca-4b3e-92e9-36786a644af9",
   "metadata": {},
   "source": [
    "### Q1. Describe three applications for exception processing."
   ]
  },
  {
   "cell_type": "markdown",
   "id": "bd50d686-74d4-4c18-8334-3f1ebc77bcd0",
   "metadata": {},
   "source": [
    "- Error Handling: Handle and recover from errors or exceptional conditions during program execution.\n",
    "\n",
    "- Input Validation: Validate user input or data from external sources to ensure it meets desired criteria.\n",
    "\n",
    "- Resource Management: Manage system resources, such as files or database connections, by properly handling exceptions related to their usage."
   ]
  },
  {
   "cell_type": "markdown",
   "id": "cc92c228-97a1-4362-b32e-7eca21eae9f4",
   "metadata": {},
   "source": [
    "### Q2. What happens if you don&#39;t do something extra to treat an exception?"
   ]
  },
  {
   "cell_type": "markdown",
   "id": "5fc58355-259e-42a3-a5f7-c5a0ddfb04c7",
   "metadata": {},
   "source": [
    "\n",
    "\n",
    "If you don't handle an exception, it will propagate up the call stack and may result in program termination with an error message."
   ]
  },
  {
   "cell_type": "markdown",
   "id": "557fb2f3-27ba-49f9-bfaa-d4299055fdfe",
   "metadata": {},
   "source": [
    "### Q3. What are your options for recovering from an exception in your script?"
   ]
  },
  {
   "cell_type": "markdown",
   "id": "b2dadf2c-713b-4ce0-8142-441dd94e9125",
   "metadata": {},
   "source": [
    "Options for recovering from an exception in your script include:\n",
    "\n",
    "1. Catch and Handle the Exception: Use a try-except block to catch and handle the exception within your script.\n",
    "2. Retry the Operation: Attempt the operation again by enclosing the code in a loop or using a retry mechanism.\n",
    "3. Graceful Degradation: Proceed with alternative approaches or fallback mechanisms if the exception is not critical.\n",
    "4. Logging and Reporting: Log the exception details for debugging and report the exception to relevant parties.\n",
    "5. Graceful Termination: In severe or unrecoverable cases, gracefully terminate the script to prevent further issues."
   ]
  },
  {
   "cell_type": "markdown",
   "id": "73979b96-0fb4-4815-a8ef-b5655974dc3a",
   "metadata": {},
   "source": [
    "### Q4. Describe two methods for triggering exceptions in your script."
   ]
  },
  {
   "cell_type": "markdown",
   "id": "cefca0a0-73d8-49f3-91b4-b4f00420a979",
   "metadata": {},
   "source": [
    "Raise an Exception: Use the raise statement followed by an exception type to explicitly trigger an exception at a specific point in your code. This allows you to indicate exceptional conditions or errors explicitly.\n",
    "\n",
    "Assert Statements: Utilize assert statements to trigger an exception based on a condition. If the condition evaluates to False, an AssertionError exception is raised. Assert statements are commonly used for debugging and enforcing specific conditions during development."
   ]
  },
  {
   "cell_type": "code",
   "execution_count": 1,
   "id": "70ff073a-934f-42f2-8c88-c377c4f2262d",
   "metadata": {},
   "outputs": [
    {
     "ename": "ValueError",
     "evalue": "Invalid input",
     "output_type": "error",
     "traceback": [
      "\u001b[0;31m---------------------------------------------------------------------------\u001b[0m",
      "\u001b[0;31mValueError\u001b[0m                                Traceback (most recent call last)",
      "Cell \u001b[0;32mIn [1], line 1\u001b[0m\n\u001b[0;32m----> 1\u001b[0m \u001b[38;5;28;01mraise\u001b[39;00m \u001b[38;5;167;01mValueError\u001b[39;00m(\u001b[38;5;124m\"\u001b[39m\u001b[38;5;124mInvalid input\u001b[39m\u001b[38;5;124m\"\u001b[39m)\n",
      "\u001b[0;31mValueError\u001b[0m: Invalid input"
     ]
    }
   ],
   "source": [
    "raise ValueError(\"Invalid input\")\n"
   ]
  },
  {
   "cell_type": "code",
   "execution_count": 5,
   "id": "2a32cc46-c818-41bd-8f4e-5637111a3dc9",
   "metadata": {},
   "outputs": [
    {
     "ename": "AssertionError",
     "evalue": "x must be 10",
     "output_type": "error",
     "traceback": [
      "\u001b[0;31m---------------------------------------------------------------------------\u001b[0m",
      "\u001b[0;31mAssertionError\u001b[0m                            Traceback (most recent call last)",
      "Cell \u001b[0;32mIn [5], line 2\u001b[0m\n\u001b[1;32m      1\u001b[0m x \u001b[38;5;241m=\u001b[39m \u001b[38;5;241m10\u001b[39m\n\u001b[0;32m----> 2\u001b[0m \u001b[38;5;28;01massert\u001b[39;00m x \u001b[38;5;241m==\u001b[39m \u001b[38;5;241m0\u001b[39m, \u001b[38;5;124m\"\u001b[39m\u001b[38;5;124mx must be 10\u001b[39m\u001b[38;5;124m\"\u001b[39m\n",
      "\u001b[0;31mAssertionError\u001b[0m: x must be 10"
     ]
    }
   ],
   "source": [
    "x = 10\n",
    "assert x == 0, \"x must be 10\""
   ]
  },
  {
   "cell_type": "markdown",
   "id": "7f8d8d8d-8b8f-4f8b-bd8b-c4ff9a43fc86",
   "metadata": {},
   "source": [
    "### Q5. Identify two methods for specifying actions to be executed at termination time, regardless of whether or not an exception exists."
   ]
  },
  {
   "cell_type": "markdown",
   "id": "8ac60a10-c395-4c65-a53c-102e19a6bcc8",
   "metadata": {},
   "source": [
    "Else Block: The else block is used with a try-except block to specify code that will be executed when no exceptions occur in the try block."
   ]
  },
  {
   "cell_type": "code",
   "execution_count": 6,
   "id": "1f6484ca-d6fa-4c35-9341-b7bd3ff9ca5b",
   "metadata": {},
   "outputs": [],
   "source": [
    "try:\n",
    "    # Code that may raise an exception\n",
    "    ...\n",
    "except Exception:\n",
    "    # Exception handling\n",
    "    ...\n",
    "else:\n",
    "    # Code to be executed when no exceptions occur\n",
    "    ...\n"
   ]
  },
  {
   "cell_type": "markdown",
   "id": "2a003bed-ff56-498e-86bf-0bc5c4f2e83f",
   "metadata": {},
   "source": [
    "Finally Block: The finally block is used to specify code that will be executed regardless of whether an exception is raised or caught in the try block."
   ]
  },
  {
   "cell_type": "code",
   "execution_count": 7,
   "id": "94a7524e-0650-42d0-8a76-642ef7dcaa72",
   "metadata": {},
   "outputs": [],
   "source": [
    "try:\n",
    "    # Code that may raise an exception\n",
    "    ...\n",
    "except Exception:\n",
    "    # Exception handling\n",
    "    ...\n",
    "finally:\n",
    "    # Code to be executed regardless of exception\n",
    "    ...\n"
   ]
  },
  {
   "cell_type": "code",
   "execution_count": null,
   "id": "a31e6388-da1a-4b53-af74-2bbc518c7092",
   "metadata": {},
   "outputs": [],
   "source": []
  }
 ],
 "metadata": {
  "kernelspec": {
   "display_name": "Python 3 (ipykernel)",
   "language": "python",
   "name": "python3"
  },
  "language_info": {
   "codemirror_mode": {
    "name": "ipython",
    "version": 3
   },
   "file_extension": ".py",
   "mimetype": "text/x-python",
   "name": "python",
   "nbconvert_exporter": "python",
   "pygments_lexer": "ipython3",
   "version": "3.10.6"
  }
 },
 "nbformat": 4,
 "nbformat_minor": 5
}
