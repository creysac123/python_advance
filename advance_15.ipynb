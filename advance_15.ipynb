{
 "cells": [
  {
   "cell_type": "markdown",
   "id": "83d3c5b3-8ab0-4166-83db-e5efef28109b",
   "metadata": {},
   "source": [
    "### 1. What are the new features added in Python 3.8 version?"
   ]
  },
  {
   "cell_type": "markdown",
   "id": "f799f691-313a-40eb-b74c-29b043bae012",
   "metadata": {},
   "source": [
    "Python 3.8 introduced the following key features:\n",
    "\n",
    "- Walrus Operator (:=): Allows assignment within an expression.\n",
    "- Positional-Only Parameters: Enables defining parameters that can only be passed positionally.\n",
    "- Debugging Support in f-strings: Adds \"=\" option to display variable names and values.\n",
    "- math.prod(): Computes the product of elements in an iterable.\n",
    "- multiprocessing.shared_memory: Facilitates sharing memory across multiple processes.\n",
    "- Enhanced \"typing\" module: Includes improvements like Literal types and TypedDict support.\n",
    "- Performance Improvements: Optimized dictionary access, faster built-in functions, and more efficient f-strings."
   ]
  },
  {
   "cell_type": "code",
   "execution_count": 2,
   "id": "45852c0c-b495-4587-b982-259dcd55d61b",
   "metadata": {},
   "outputs": [
    {
     "name": "stdout",
     "output_type": "stream",
     "text": [
      "Hello, Alice!\n",
      "TypeError: greet() got some positional-only arguments passed as keyword arguments: 'name'\n",
      "x=10\n",
      "The product is: 24\n",
      "The updated value is: 42\n",
      "Hello, Alice!\n",
      "The value is: 1\n"
     ]
    }
   ],
   "source": [
    "# 1. Walrus Operator (:=)\n",
    "x = 5\n",
    "if (n := len('hello')) > x:\n",
    "    print(f\"The length of 'hello' ({n}) is greater than {x}.\")\n",
    "\n",
    "# 2. Positional-Only Parameters\n",
    "def greet(name, /, greeting='Hello'):\n",
    "    print(f\"{greeting}, {name}!\")\n",
    "\n",
    "try:\n",
    "    greet(\"Alice\")  # Output: Hello, Alice!\n",
    "    greet(name=\"Bob\")  # Error: TypeError: greet() got some positional-only arguments passed as keyword arguments\n",
    "except TypeError as e:\n",
    "    print(f\"TypeError: {e}\")\n",
    "\n",
    "# 3. Debugging Support in f-strings\n",
    "x = 10\n",
    "print(f\"{x=}\")  # Output: x=10\n",
    "\n",
    "# 4. math.prod()\n",
    "import math\n",
    "numbers = [2, 3, 4]\n",
    "try:\n",
    "    product = math.prod(numbers)\n",
    "    print(f\"The product is: {product}\")  # Output: The product is: 24\n",
    "except AttributeError as e:\n",
    "    print(f\"AttributeError: {e}\")\n",
    "\n",
    "# 5. multiprocessing.shared_memory\n",
    "from multiprocessing import shared_memory, Process\n",
    "\n",
    "def update_shared_memory(shm_name):\n",
    "    try:\n",
    "        shm = shared_memory.SharedMemory(name=shm_name)\n",
    "        arr = shm.buf\n",
    "        arr[0] = 42\n",
    "        shm.close()\n",
    "    except FileNotFoundError as e:\n",
    "        print(f\"FileNotFoundError: {e}\")\n",
    "\n",
    "shm_name = \"my_shared_memory\"\n",
    "try:\n",
    "    shm = shared_memory.SharedMemory(name=shm_name, create=True, size=4)\n",
    "    arr = shm.buf\n",
    "    arr[0] = 0\n",
    "\n",
    "    p = Process(target=update_shared_memory, args=(shm_name,))\n",
    "    p.start()\n",
    "    p.join()\n",
    "\n",
    "    print(f\"The updated value is: {arr[0]}\")  # Output: The updated value is: 42\n",
    "except FileExistsError as e:\n",
    "    print(f\"FileExistsError: {e}\")\n",
    "\n",
    "# 6. Enhanced \"typing\" module\n",
    "from typing import Literal, TypedDict\n",
    "\n",
    "def greet_person(name: str, mood: Literal[\"happy\", \"sad\"]) -> TypedDict('Greeting', {'message': str, 'mood': str}):\n",
    "    message = f\"Hello, {name}!\"\n",
    "    return {'message': message, 'mood': mood}\n",
    "\n",
    "try:\n",
    "    person = greet_person(\"Alice\", \"happy\")\n",
    "    print(person['message'])  # Output: Hello, Alice!\n",
    "except TypeError as e:\n",
    "    print(f\"TypeError: {e}\")\n",
    "\n",
    "# 7. Performance Improvements\n",
    "d = {'apple': 1, 'banana': 2, 'cherry': 3}\n",
    "try:\n",
    "    value = d.get('apple')  # Faster dictionary access\n",
    "    print(f\"The value is: {value}\")  # Output: The value is: 1\n",
    "except AttributeError as e:\n",
    "    print(f\"AttributeError: {e}\")\n"
   ]
  },
  {
   "cell_type": "markdown",
   "id": "08a6eb20-a79c-4085-8145-55307cfc97ec",
   "metadata": {},
   "source": [
    "### 2. What is monkey patching in Python?"
   ]
  },
  {
   "cell_type": "markdown",
   "id": "334648a7-b793-4616-b85a-c18b2e047d4d",
   "metadata": {},
   "source": [
    "Monkey patching in Python refers to dynamically modifying or extending existing code at runtime by adding, modifying, or replacing attributes, methods, or functions in a module or class. It allows for on-the-fly changes to code behavior without altering the original source code, enabling flexibility and customization during program execution."
   ]
  },
  {
   "cell_type": "code",
   "execution_count": 3,
   "id": "d8b0ab1f-a8a4-48f5-9d0a-e988f0657465",
   "metadata": {},
   "outputs": [
    {
     "name": "stdout",
     "output_type": "stream",
     "text": [
      "Original method called.\n",
      "New method called.\n"
     ]
    }
   ],
   "source": [
    "# Original class definition\n",
    "class MyClass:\n",
    "    def original_method(self):\n",
    "        print(\"Original method called.\")\n",
    "\n",
    "# Monkey patching - Adding a new method to the class\n",
    "def new_method(self):\n",
    "    print(\"New method called.\")\n",
    "\n",
    "MyClass.patched_method = new_method\n",
    "\n",
    "# Creating an instance of the class\n",
    "obj = MyClass()\n",
    "\n",
    "# Calling the original method\n",
    "obj.original_method()  # Output: Original method called.\n",
    "\n",
    "# Calling the patched method\n",
    "obj.patched_method()  # Output: New method called.\n"
   ]
  },
  {
   "cell_type": "markdown",
   "id": "202b64e1-61f9-4d60-b0b9-6c27f2a8ec88",
   "metadata": {},
   "source": [
    "### 3. What is the difference between a shallow copy and deep copy?"
   ]
  },
  {
   "cell_type": "markdown",
   "id": "e9640d77-1ad3-43f5-bc95-990e8312d345",
   "metadata": {},
   "source": [
    "Shallow copy in Python creates a new object but references nested objects from the original, while deep copy creates an independent copy of both the top-level object and nested objects."
   ]
  },
  {
   "cell_type": "code",
   "execution_count": 4,
   "id": "82c65487-6276-4c33-8a80-3e4ba5091f2e",
   "metadata": {},
   "outputs": [
    {
     "name": "stdout",
     "output_type": "stream",
     "text": [
      "Original List: [1, [5, 3], 4] 139852767000320\n",
      "Shallow Copy: [1, [5, 3], 4] 139852767004096\n",
      "Deep Copy: [1, [6, 3], 4] 139852767009728\n"
     ]
    }
   ],
   "source": [
    "import copy\n",
    "\n",
    "# Original list with nested references\n",
    "original_list = [1, [2, 3], 4]\n",
    "\n",
    "# Shallow copy\n",
    "shallow_copy = copy.copy(original_list)\n",
    "\n",
    "# Deep copy\n",
    "deep_copy = copy.deepcopy(original_list)\n",
    "\n",
    "# Modifying the nested reference in the shallow copy\n",
    "shallow_copy[1][0] = 5\n",
    "\n",
    "# Modifying the nested reference in the deep copy\n",
    "deep_copy[1][0] = 6\n",
    "\n",
    "# Printing the original list and the copies with object IDs\n",
    "print(\"Original List:\", original_list, id(original_list))\n",
    "print(\"Shallow Copy:\", shallow_copy, id(shallow_copy))\n",
    "print(\"Deep Copy:\", deep_copy, id(deep_copy))\n"
   ]
  },
  {
   "cell_type": "markdown",
   "id": "bef5f075-df51-4a45-8d9f-cc0583e1d50a",
   "metadata": {},
   "source": [
    "### 4. What is the maximum possible length of an identifier?"
   ]
  },
  {
   "cell_type": "markdown",
   "id": "b404be69-f364-42ea-856f-3be3d306e91d",
   "metadata": {},
   "source": [
    "\n",
    "\n",
    "The maximum length of a Python identifier is not explicitly specified, but it is recommended to keep identifiers reasonably short and meaningful for code readability and maintainability. Excessively long identifiers can negatively impact code quality. It is advised to follow Python's style guide (PEP 8) which suggests limiting line lengths to 79 characters for better code formatting."
   ]
  },
  {
   "cell_type": "markdown",
   "id": "21bef2e7-b3f3-4af2-b679-419603e6f77d",
   "metadata": {},
   "source": [
    "### 5. What is generator comprehension?"
   ]
  },
  {
   "cell_type": "markdown",
   "id": "9bb8bb96-09c4-41a7-9d1a-4b84b4080ae0",
   "metadata": {},
   "source": [
    "Generator comprehension in Python allows you to create iterators or generators on-the-fly using a concise syntax (expression for item in iterable if condition). It is memory-efficient and suitable for working with large or infinite sequences."
   ]
  },
  {
   "cell_type": "code",
   "execution_count": 6,
   "id": "c3b03194-ed98-48e8-ae0f-25ba7b6a5666",
   "metadata": {},
   "outputs": [
    {
     "name": "stdout",
     "output_type": "stream",
     "text": [
      "1 4 9 16 25 "
     ]
    }
   ],
   "source": [
    "# Generator comprehension to generate squares of numbers\n",
    "squares = (x ** 2 for x in range(1, 6))\n",
    "\n",
    "# Iterate over the generator\n",
    "for square in squares:\n",
    "    print(square, end=\" \")"
   ]
  },
  {
   "cell_type": "code",
   "execution_count": null,
   "id": "214e8098-beb4-4b62-8179-b3fc703a4e8f",
   "metadata": {},
   "outputs": [],
   "source": []
  }
 ],
 "metadata": {
  "kernelspec": {
   "display_name": "Python 3 (ipykernel)",
   "language": "python",
   "name": "python3"
  },
  "language_info": {
   "codemirror_mode": {
    "name": "ipython",
    "version": 3
   },
   "file_extension": ".py",
   "mimetype": "text/x-python",
   "name": "python",
   "nbconvert_exporter": "python",
   "pygments_lexer": "ipython3",
   "version": "3.10.6"
  }
 },
 "nbformat": 4,
 "nbformat_minor": 5
}
