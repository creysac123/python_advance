{
 "cells": [
  {
   "cell_type": "markdown",
   "id": "ec8bebb2-4de1-4a57-8973-7f96c03153bf",
   "metadata": {},
   "source": [
    "### Q1. Which two operator overloading methods can you use in your classes to support iteration?"
   ]
  },
  {
   "cell_type": "markdown",
   "id": "38963bdd-cdce-4efa-9425-77d72317aaba",
   "metadata": {},
   "source": [
    " `__iter__` and `__next__` are the operator overloading methods in python that support iteration and are collectively called iterator protocol.\n",
    "\n",
    "`__iter__` returns the iterator object and is called at the start of loop in our respective class.\n",
    "\n",
    "`__next__` is called at each loop increment, it returns the incremented value. Also Stopiteration is raised when there is no value to return."
   ]
  },
  {
   "cell_type": "code",
   "execution_count": 1,
   "id": "11fc5665-8f1f-4078-8dd0-6757d5df0536",
   "metadata": {},
   "outputs": [
    {
     "name": "stdout",
     "output_type": "stream",
     "text": [
      "0\n",
      "1\n",
      "2\n",
      "3\n",
      "4\n"
     ]
    }
   ],
   "source": [
    "class MyIterator:\n",
    "    def __init__(self, limit):\n",
    "        self.limit = limit\n",
    "        self.current = 0\n",
    "\n",
    "    def __iter__(self):\n",
    "        return self\n",
    "\n",
    "    def __next__(self):\n",
    "        if self.current < self.limit:\n",
    "            value = self.current\n",
    "            self.current += 1\n",
    "            return value\n",
    "        else:\n",
    "            raise StopIteration\n",
    "\n",
    "# Create an instance of the iterator\n",
    "my_iter = MyIterator(5)\n",
    "\n",
    "# Iterate over the iterator using a for loop\n",
    "for item in my_iter:\n",
    "    print(item)\n",
    "\n"
   ]
  },
  {
   "cell_type": "markdown",
   "id": "665637e1-752d-4156-9ce2-e0208e3654e5",
   "metadata": {},
   "source": [
    "### Q2. In what contexts do the two operator overloading methods manage printing?"
   ]
  },
  {
   "cell_type": "markdown",
   "id": "49b635fa-3703-450d-81ce-4a75d7f1b1f2",
   "metadata": {},
   "source": [
    "`__str__`: Provides a human-readable string representation of an object when using str() or print().\n",
    "\n",
    "`__repr__`: Provides a detailed string representation of an object when using repr().\n",
    "\n",
    "By implementing these methods, you can customize how objects are printed or displayed in different contexts."
   ]
  },
  {
   "cell_type": "code",
   "execution_count": 2,
   "id": "c76eb54b-c418-4a4b-a11e-1a0122ae167a",
   "metadata": {},
   "outputs": [
    {
     "name": "stdout",
     "output_type": "stream",
     "text": [
      "Person: John\n",
      "Person: John\n",
      "Person(name='John')\n"
     ]
    }
   ],
   "source": [
    "class Person:\n",
    "    def __init__(self, name):\n",
    "        self.name = name\n",
    "\n",
    "    def __str__(self):\n",
    "        return f\"Person: {self.name}\"\n",
    "\n",
    "    def __repr__(self):\n",
    "        return f\"Person(name='{self.name}')\"\n",
    "\n",
    "person = Person(\"John\")\n",
    "\n",
    "print(person)     \n",
    "print(str(person)) \n",
    "print(repr(person)) \n"
   ]
  },
  {
   "cell_type": "markdown",
   "id": "44fa5953-f94a-4a87-a42d-74738adb0ce8",
   "metadata": {},
   "source": [
    "### Q3. In a class, how do you intercept slice operations?"
   ]
  },
  {
   "cell_type": "markdown",
   "id": "03826bdd-7157-4231-9d90-b5b6b5f1e5ca",
   "metadata": {},
   "source": [
    "To intercept slice operations in a class, you can implement the __getitem__ method with appropriate logic to handle slicing. The __getitem__ method allows you to customize the behavior when accessing items using square brackets ([]) on an object."
   ]
  },
  {
   "cell_type": "code",
   "execution_count": 3,
   "id": "d8defbdc-a8f0-469a-8975-6e8b6d3062f4",
   "metadata": {},
   "outputs": [
    {
     "name": "stdout",
     "output_type": "stream",
     "text": [
      "3\n",
      "[2, 4]\n"
     ]
    }
   ],
   "source": [
    "class MyList:\n",
    "    def __init__(self, data):\n",
    "        self.data = data\n",
    "\n",
    "    def __getitem__(self, index):\n",
    "        if isinstance(index, slice):\n",
    "            # Handle slice operations\n",
    "            start, stop, step = index.indices(len(self.data))\n",
    "            return [self.data[i] for i in range(start, stop, step)]\n",
    "        else:\n",
    "            # Handle single item access\n",
    "            return self.data[index]\n",
    "\n",
    "my_list = MyList([1, 2, 3, 4, 5])\n",
    "\n",
    "# Accessing a single item\n",
    "print(my_list[2])     \n",
    "\n",
    "# Slicing the list\n",
    "print(my_list[1:4:2])\n"
   ]
  },
  {
   "cell_type": "markdown",
   "id": "c818c09a-9b67-4e2d-8f3a-5bd9f983d214",
   "metadata": {},
   "source": [
    "### Q4. In a class, how do you capture in-place addition?"
   ]
  },
  {
   "cell_type": "markdown",
   "id": "d50fec23-2a98-4c6a-8d43-ddbdd744d40a",
   "metadata": {},
   "source": [
    "To capture in-place addition in a class, you can implement the `__iadd__` method. The `__iadd__` method allows you to define the behavior when the += operator is used to perform in-place addition on an object of your class."
   ]
  },
  {
   "cell_type": "code",
   "execution_count": 4,
   "id": "715140de-f8ed-42eb-be34-c89dd6c9866b",
   "metadata": {},
   "outputs": [
    {
     "name": "stdout",
     "output_type": "stream",
     "text": [
      "8\n"
     ]
    }
   ],
   "source": [
    "class MyNumber:\n",
    "    def __init__(self, value):\n",
    "        self.value = value\n",
    "\n",
    "    def __iadd__(self, other):\n",
    "        self.value += other\n",
    "        return self\n",
    "\n",
    "num = MyNumber(5)\n",
    "\n",
    "num += 3\n",
    "\n",
    "print(num.value)  # Output: 8\n"
   ]
  },
  {
   "cell_type": "markdown",
   "id": "2fb833d3-5e6a-4629-ab21-f8ae578fc50b",
   "metadata": {},
   "source": [
    "### Q5. When is it appropriate to use operator overloading?"
   ]
  },
  {
   "cell_type": "markdown",
   "id": "c2358023-99f2-49dc-9fbf-52d88244bdde",
   "metadata": {},
   "source": [
    "Operator overloading is appropriate when it enhances code readability and simplifies complex operations. It is commonly used to provide intuitive semantics, mimic built-in types, improve code clarity, and support domain-specific operations. However, it should be used judiciously to avoid confusion and maintain code maintainability."
   ]
  },
  {
   "cell_type": "code",
   "execution_count": null,
   "id": "a54cdb9d-fa26-4da0-8ccc-d75faf0fd60e",
   "metadata": {},
   "outputs": [],
   "source": []
  }
 ],
 "metadata": {
  "kernelspec": {
   "display_name": "Python 3 (ipykernel)",
   "language": "python",
   "name": "python3"
  },
  "language_info": {
   "codemirror_mode": {
    "name": "ipython",
    "version": 3
   },
   "file_extension": ".py",
   "mimetype": "text/x-python",
   "name": "python",
   "nbconvert_exporter": "python",
   "pygments_lexer": "ipython3",
   "version": "3.10.6"
  }
 },
 "nbformat": 4,
 "nbformat_minor": 5
}
