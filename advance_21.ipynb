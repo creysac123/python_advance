{
 "cells": [
  {
   "cell_type": "markdown",
   "id": "d9a43910-de33-4bc9-921c-460430f8803a",
   "metadata": {},
   "source": [
    "### Q1. What is a probability distribution, exactly? If the values are meant to be random, how can you predict them at all?"
   ]
  },
  {
   "cell_type": "markdown",
   "id": "6b2bd3a7-a2a6-4802-856c-f0a53c976352",
   "metadata": {},
   "source": [
    "A probability distribution is a mathematical function that describes the likelihood of different outcomes or events. While individual values from a probability distribution are random and unpredictable, the distribution provides information about the overall pattern of the random variable. By analyzing the distribution, we can make predictions about the likelihood of specific outcomes or estimate statistical properties. Probability distributions help us understand and quantify uncertainty in various fields."
   ]
  },
  {
   "cell_type": "markdown",
   "id": "07d11476-64c2-450b-92a0-4704f03e5e94",
   "metadata": {},
   "source": [
    "### Q2. Is there a distinction between true random numbers and pseudo-random numbers, if there is one? Why are the latter considered “good enough”?"
   ]
  },
  {
   "cell_type": "markdown",
   "id": "b868bcb6-d234-4b5f-b9db-c997c44075f2",
   "metadata": {},
   "source": [
    "\n",
    "\n",
    "Yes, there is a distinction between true random numbers and pseudo-random numbers. True random numbers are generated from inherently unpredictable sources, while pseudo-random numbers are generated using deterministic algorithms. Pseudo-random numbers are considered \"good enough\" because they exhibit properties of randomness and pass statistical tests, making them suitable for many practical applications."
   ]
  },
  {
   "cell_type": "markdown",
   "id": "5bbf989a-88df-4696-8dba-8be040b6edc6",
   "metadata": {},
   "source": [
    "### Q3. What are the two main factors that influence the behaviour of a &quot;normal&quot; probability distribution?"
   ]
  },
  {
   "cell_type": "markdown",
   "id": "9f1826aa-0854-4fc3-97f4-a9a1fea9d05b",
   "metadata": {},
   "source": [
    "\n",
    "\n",
    "The two main factors that influence the behavior of a \"normal\" probability distribution are the mean (μ) and the standard deviation (σ). The mean determines the central location of the distribution, while the standard deviation determines the spread or dispersion of the data around the mean."
   ]
  },
  {
   "cell_type": "markdown",
   "id": "9cd687c4-b9a7-41fc-a569-939e4a8fb35c",
   "metadata": {},
   "source": [
    "### Q4. Provide a real-life example of a normal distribution."
   ]
  },
  {
   "cell_type": "markdown",
   "id": "3e4ddb33-7441-4a44-8b4d-41aa4b9b129d",
   "metadata": {},
   "source": [
    "One real-life example of a normal distribution is the distribution of heights of adult humans. In a large population, the heights of adults tend to follow a normal distribution, with the majority of people clustered around the average height and fewer individuals at the extremes of very tall or very short heights."
   ]
  },
  {
   "cell_type": "markdown",
   "id": "2988978a-d2a8-4628-a3cd-be6d0b3d2427",
   "metadata": {},
   "source": [
    "### Q5. In the short term, how can you expect a probability distribution to behave? What do you think will happen as the number of trials grows?"
   ]
  },
  {
   "cell_type": "markdown",
   "id": "51b0c82a-a5b5-403f-a081-f0bc150aadd7",
   "metadata": {},
   "source": [
    "In the short term, the behavior of a probability distribution may deviate from its expected long-term behavior. However, as the number of trials or observations grows, the distribution tends to converge towards its expected or theoretical behavior. This is known as the law of large numbers. As more trials are conducted, the distribution becomes more stable and resembles the expected distribution, with the probabilities of outcomes approaching their true probabilities."
   ]
  },
  {
   "cell_type": "markdown",
   "id": "3e74bc36-0ea1-4949-ada0-86a9d3307aa9",
   "metadata": {},
   "source": [
    "### Q6. What kind of object can be shuffled by using random.shuffle?"
   ]
  },
  {
   "cell_type": "markdown",
   "id": "e76f8c08-1f06-483a-83c5-0f7516fdbb72",
   "metadata": {},
   "source": [
    "The random.shuffle function in Python can be used to shuffle the elements of any mutable sequence object. This includes objects such as lists, tuples, and byte arrays. Immutable sequence objects, such as strings and range objects, cannot be shuffled directly using random.shuffle."
   ]
  },
  {
   "cell_type": "markdown",
   "id": "0a4dd0f2-2e65-4ab6-855b-114e9c4bd3a8",
   "metadata": {},
   "source": [
    "### Q7. Describe the math package&#39;s general categories of functions."
   ]
  },
  {
   "cell_type": "markdown",
   "id": "44e5e04d-f6ed-46a7-b398-3b306456dfea",
   "metadata": {},
   "source": [
    "\n",
    "\n",
    "The math package in Python provides various mathematical functions. These functions can be categorized into several general categories:\n",
    "\n",
    "- Basic arithmetic functions: This category includes functions like math.sqrt (square root), math.pow (power), math.floor (floor division), math.ceil (ceiling division), and math.abs (absolute value).\n",
    "\n",
    "- Trigonometric functions: The math package provides trigonometric functions such as math.sin, math.cos, math.tan, math.asin, math.acos, and math.atan for calculating the sine, cosine, tangent, arcsine, arccosine, and arctangent of an angle, respectively.\n",
    "\n",
    "- Exponential and logarithmic functions: Functions like math.exp (exponential), math.log (natural logarithm), math.log10 (base-10 logarithm), math.log2 (base-2 logarithm), and math.pow (power) fall under this category.\n",
    "\n",
    "- Hyperbolic functions: The math package includes functions like math.sinh, math.cosh, and math.tanh for computing hyperbolic sine, cosine, and tangent, respectively.\n",
    "\n",
    "- Special functions: This category includes special mathematical functions like math.factorial (factorial), math.gamma (gamma function), and math.erf (error function).\n",
    "\n",
    "- Constants: The math package also provides various mathematical constants such as math.pi (pi), math.e (Euler's number), math.inf (infinity), and math.nan (not a number).\n",
    "\n",
    "These are just some of the general categories of functions available in the math package, and there are many more functions that can be explored for different mathematical operations.\n",
    "\n",
    "\n",
    "\n",
    "\n",
    "\n",
    "\n"
   ]
  },
  {
   "cell_type": "markdown",
   "id": "3d010b96-8e5d-441a-92c5-1af139dd8f90",
   "metadata": {},
   "source": [
    "### Q8. What is the relationship between exponentiation and logarithms?"
   ]
  },
  {
   "cell_type": "markdown",
   "id": "9d989099-6c2d-4826-95ca-c5335e443b07",
   "metadata": {},
   "source": [
    "Exponentiation and logarithms are inverse operations of each other. Exponentiation involves raising a base number to a power, while logarithms determine the exponent needed to obtain a specific value."
   ]
  },
  {
   "cell_type": "markdown",
   "id": "667e45c0-32f4-4f31-956d-c21370250fad",
   "metadata": {},
   "source": [
    "### Q9. What are the three logarithmic functions that Python supports?"
   ]
  },
  {
   "cell_type": "markdown",
   "id": "1c41949f-b65f-4288-920f-8afc7dbe5ff3",
   "metadata": {},
   "source": [
    "Python supports three logarithmic functions:\n",
    "\n",
    "- math.log(x, base): This function calculates the logarithm of x to the specified base. If the base is not provided, it defaults to natural logarithm (base e).\n",
    "- math.log10(x): This function calculates the logarithm of x to the base 10.\n",
    "- math.log2(x): This function calculates the logarithm of x to the base 2."
   ]
  },
  {
   "cell_type": "code",
   "execution_count": null,
   "id": "bcde58ae-00c4-4baf-934e-d4a76583513f",
   "metadata": {},
   "outputs": [],
   "source": []
  }
 ],
 "metadata": {
  "kernelspec": {
   "display_name": "Python 3 (ipykernel)",
   "language": "python",
   "name": "python3"
  },
  "language_info": {
   "codemirror_mode": {
    "name": "ipython",
    "version": 3
   },
   "file_extension": ".py",
   "mimetype": "text/x-python",
   "name": "python",
   "nbconvert_exporter": "python",
   "pygments_lexer": "ipython3",
   "version": "3.10.6"
  }
 },
 "nbformat": 4,
 "nbformat_minor": 5
}
