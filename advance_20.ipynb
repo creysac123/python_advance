{
 "cells": [
  {
   "cell_type": "markdown",
   "id": "32d2f915-ff24-45c4-bb84-aa3d278f71e8",
   "metadata": {},
   "source": [
    "### 1. Compare and contrast the float and Decimal classes&#39; benefits and drawbacks."
   ]
  },
  {
   "cell_type": "markdown",
   "id": "9e76136b-984d-4216-a15b-3e5cd28e0445",
   "metadata": {},
   "source": [
    "- Float: Efficient and faster for most mathematical operations, fixed memory usage, wider range of values, but limited precision and potential rounding errors.\n",
    "- Decimal: Arbitrary precision for accurate decimal arithmetic, control over rounding, fixed decimal places, suitable for financial calculations, but slower and consumes more memory compared to floats.\n",
    "- Overall, floats are suitable for general-purpose arithmetic, while decimals are preferable for precise decimal calculations.\n",
    "- Floats may have precision issues and inaccuracies with certain decimal values, while decimals provide accurate representations.\n",
    "- Floats are widely supported, while decimals may have limited interoperability with other libraries.\n",
    "- The choice between float and decimal depends on the specific requirements and trade-offs of the application."
   ]
  },
  {
   "cell_type": "markdown",
   "id": "2c05cfa1-5ac7-4be4-95f3-d497e000c260",
   "metadata": {},
   "source": [
    "### 2. Decimal(&#39;1.200&#39;) and Decimal(&#39;1.2&#39;) are two objects to consider. In what sense are these the same object? Are these just two ways of representing the exact same value, or do they correspond to different internal states?"
   ]
  },
  {
   "cell_type": "markdown",
   "id": "a5bfc327-7b6a-4fa0-9279-b05dcf7318e8",
   "metadata": {},
   "source": [
    "Decimal('1.200') and Decimal('1.2') are different objects in Python. They correspond to different internal states within the Decimal class. Although they represent the same value, they have distinct string representations and thus different internal representations. The == operator can be used to compare their values, taking into account their internal precision."
   ]
  },
  {
   "cell_type": "code",
   "execution_count": 1,
   "id": "b2396bf7-133f-4e4a-8bcc-fb69cf63c83b",
   "metadata": {},
   "outputs": [
    {
     "name": "stdout",
     "output_type": "stream",
     "text": [
      "False\n",
      "True\n",
      "1.200\n",
      "1.2\n"
     ]
    }
   ],
   "source": [
    "from decimal import Decimal\n",
    "\n",
    "# Create two Decimal objects with different string representations but the same value\n",
    "decimal_1 = Decimal('1.200')\n",
    "decimal_2 = Decimal('1.2')\n",
    "\n",
    "# Check if the objects are the same\n",
    "print(decimal_1 is decimal_2)  # Output: False\n",
    "\n",
    "# Compare their values\n",
    "print(decimal_1 == decimal_2)  # Output: True\n",
    "\n",
    "# Print their string representations\n",
    "print(decimal_1)  # Output: 1.200\n",
    "print(decimal_2)  # Output: 1.2\n"
   ]
  },
  {
   "cell_type": "markdown",
   "id": "2fd0bb86-92be-46f5-9cb9-54cc5dbaa28b",
   "metadata": {},
   "source": [
    "### 3. What happens if the equality of Decimal(&#39;1.200&#39;) and Decimal(&#39;1.2&#39;) is checked?"
   ]
  },
  {
   "cell_type": "code",
   "execution_count": 2,
   "id": "cb2c1c97-e51a-4803-be76-636ab8291d8a",
   "metadata": {},
   "outputs": [
    {
     "name": "stdout",
     "output_type": "stream",
     "text": [
      "True\n"
     ]
    }
   ],
   "source": [
    "from decimal import Decimal\n",
    "\n",
    "decimal_1 = Decimal('1.200')\n",
    "decimal_2 = Decimal('1.2')\n",
    "\n",
    "print(decimal_1 == decimal_2) \n"
   ]
  },
  {
   "cell_type": "markdown",
   "id": "335305d6-1907-4c0b-a180-eb6e4d933a30",
   "metadata": {},
   "source": [
    "### 4. Why is it preferable to start a Decimal object with a string rather than a floating-point value?"
   ]
  },
  {
   "cell_type": "markdown",
   "id": "9fbe2742-7c74-4e9c-b8d2-fcf4fb8ab142",
   "metadata": {},
   "source": [
    "Floating-point numbers in computers are represented using binary approximations, which can lead to rounding errors and imprecise calculations. When a floating-point value is directly converted to a Decimal object, these rounding errors can be carried over.\n",
    "\n",
    "On the other hand, when you start a Decimal object with a string representation, you provide an exact decimal representation of the value. This allows for precise arithmetic operations without introducing any additional rounding errors."
   ]
  },
  {
   "cell_type": "markdown",
   "id": "916f8c02-75fb-4a31-baaa-b73005676034",
   "metadata": {},
   "source": [
    "### 5. In an arithmetic phrase, how simple is it to combine Decimal objects with integers?"
   ]
  },
  {
   "cell_type": "markdown",
   "id": "855d690b-455e-48bf-adcd-183125ec9642",
   "metadata": {},
   "source": [
    "Combining Decimal objects with integers in arithmetic operations is simple and seamless. Python handles the type conversion automatically and preserves the decimal precision of the `Decimal` object. Whether it's addition, subtraction, multiplication, or division, the syntax is straightforward and produces accurate results."
   ]
  },
  {
   "cell_type": "markdown",
   "id": "ce5162a7-ef46-4b26-8ccf-b0bc8fcd7674",
   "metadata": {},
   "source": [
    "### 6. Can Decimal objects and floating-point values be combined easily?"
   ]
  },
  {
   "cell_type": "markdown",
   "id": "0e23400b-8a4b-48b6-a5b7-ed190762fa88",
   "metadata": {},
   "source": [
    "Combining Decimal objects and floating-point values in Python is simple and straightforward. The `Decimal` class handles the type conversion automatically and preserves the decimal precision. Whether it's addition, subtraction, multiplication, or division, the syntax remains the same and produces accurate results."
   ]
  },
  {
   "cell_type": "markdown",
   "id": "7c0a703b-93c6-459f-989f-8fb235ac9e58",
   "metadata": {},
   "source": [
    "### 7. Using the Fraction class but not the Decimal class, give an example of a quantity that can be expressed with absolute precision."
   ]
  },
  {
   "cell_type": "code",
   "execution_count": 5,
   "id": "cfaa4960-9f50-48e9-a822-5d72a18c4553",
   "metadata": {},
   "outputs": [
    {
     "name": "stdout",
     "output_type": "stream",
     "text": [
      "1/2\n"
     ]
    }
   ],
   "source": [
    "from fractions import Fraction\n",
    "\n",
    "fraction_value = Fraction(0.5)\n",
    "\n",
    "print(fraction_value)  \n"
   ]
  },
  {
   "cell_type": "markdown",
   "id": "e673b8c1-5fc4-4b59-ad44-d523b3ad5973",
   "metadata": {},
   "source": [
    "The Fraction class in Python represents rational numbers as fractions, allowing for precise representation of fractional values without any loss of accuracy. When expressing 1/3 as a Fraction object, it can be represented exactly without any rounding or approximation issues."
   ]
  },
  {
   "cell_type": "markdown",
   "id": "908e4aee-1bf0-419d-9d3b-5b77640a1b7b",
   "metadata": {},
   "source": [
    "### 8. Describe a quantity that can be accurately expressed by the Decimal or Fraction classes but not by a floating-point value."
   ]
  },
  {
   "cell_type": "markdown",
   "id": "5eb19b7f-8bb7-4966-a92c-17c8b5db7121",
   "metadata": {},
   "source": [
    "A quantity that can be accurately expressed by the Decimal or Fraction classes but not by a floating-point value is a repeating decimal or an irrational number."
   ]
  },
  {
   "cell_type": "markdown",
   "id": "cd730150-b828-4e65-97fe-bb169fc48d7e",
   "metadata": {},
   "source": [
    "Here's an example using the Decimal class:\n"
   ]
  },
  {
   "cell_type": "code",
   "execution_count": 6,
   "id": "30aa4ad8-5323-4b07-a8ee-8f97da2ff581",
   "metadata": {},
   "outputs": [
    {
     "name": "stdout",
     "output_type": "stream",
     "text": [
      "1.41421356\n"
     ]
    }
   ],
   "source": [
    "from decimal import Decimal\n",
    "\n",
    "decimal_value = Decimal('1.41421356')\n",
    "\n",
    "print(decimal_value)  "
   ]
  },
  {
   "cell_type": "markdown",
   "id": "c374fc70-6f3d-4c40-b9d1-58063c2074ac",
   "metadata": {},
   "source": [
    "And here's an example using the Fraction class:"
   ]
  },
  {
   "cell_type": "code",
   "execution_count": 7,
   "id": "20b6dc99-1325-4403-8e3e-137f048697d0",
   "metadata": {},
   "outputs": [
    {
     "name": "stdout",
     "output_type": "stream",
     "text": [
      "6369051672525773/4503599627370496\n"
     ]
    }
   ],
   "source": [
    "from fractions import Fraction\n",
    "import math\n",
    "\n",
    "fraction_value = Fraction(math.sqrt(2))\n",
    "\n",
    "print(fraction_value)  \n"
   ]
  },
  {
   "cell_type": "markdown",
   "id": "b0c288de-7978-48bb-85e1-9b897c76a7d2",
   "metadata": {},
   "source": [
    "### Q9.Consider the following two fraction objects: Fraction(1, 2) and Fraction(1, 2). (5, 10). Is the internal state of these two objects the same? Why do you think that is?"
   ]
  },
  {
   "cell_type": "code",
   "execution_count": 8,
   "id": "38344c27-aa2b-40c9-9d01-3eb131cae6bc",
   "metadata": {},
   "outputs": [
    {
     "name": "stdout",
     "output_type": "stream",
     "text": [
      "True\n"
     ]
    }
   ],
   "source": [
    "from fractions import Fraction\n",
    "\n",
    "fraction1 = Fraction(1, 2)\n",
    "fraction2 = Fraction(5, 10)\n",
    "\n",
    "print(fraction1 == fraction2) \n"
   ]
  },
  {
   "cell_type": "markdown",
   "id": "52de42d2-55a8-4a96-9971-620b22fa85f2",
   "metadata": {},
   "source": [
    "In this example, the output will be True, indicating that the internal state of both Fraction(1, 2) and Fraction(5, 10) is the same. The Fraction class reduces the fraction 5/10 to its simplest form, which is 1/2."
   ]
  },
  {
   "cell_type": "markdown",
   "id": "a181b48d-f4a8-4b9d-b95d-6e913eb2a34f",
   "metadata": {},
   "source": [
    "### Q10. How do the Fraction class and the integer type (int) relate to each other? Containment or inheritance?"
   ]
  },
  {
   "cell_type": "markdown",
   "id": "dad0c125-33b8-45f0-b926-28e662f71989",
   "metadata": {},
   "source": [
    "\n",
    "\n",
    "The `Fraction` class and the `int` type in Python are separate types used to represent different kinds of values. They do not have a direct inheritance or containment relationship. The `Fraction` class is used for working with fractions, providing precision and flexibility, while `the` int type is used for whole numbers without fractional parts. They serve different purposes and are used in different contexts based on program requirements."
   ]
  },
  {
   "cell_type": "code",
   "execution_count": null,
   "id": "4668caad-93e8-4ed8-ae43-9368fd3847fc",
   "metadata": {},
   "outputs": [],
   "source": []
  }
 ],
 "metadata": {
  "kernelspec": {
   "display_name": "Python 3 (ipykernel)",
   "language": "python",
   "name": "python3"
  },
  "language_info": {
   "codemirror_mode": {
    "name": "ipython",
    "version": 3
   },
   "file_extension": ".py",
   "mimetype": "text/x-python",
   "name": "python",
   "nbconvert_exporter": "python",
   "pygments_lexer": "ipython3",
   "version": "3.10.6"
  }
 },
 "nbformat": 4,
 "nbformat_minor": 5
}
