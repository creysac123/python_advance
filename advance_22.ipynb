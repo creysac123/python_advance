{
 "cells": [
  {
   "cell_type": "markdown",
   "id": "e0413f88-b9de-41ea-a718-18499de927f7",
   "metadata": {},
   "source": [
    "### Q1. What are the benefits of the built-in array package, if any?"
   ]
  },
  {
   "cell_type": "markdown",
   "id": "ce79c20b-c4a9-4bc0-bf21-cb2f0e568f2b",
   "metadata": {},
   "source": [
    "The array package in Python offers benefits such as:\n",
    "\n",
    "- Memory efficiency\n",
    "- Efficient numeric operations\n",
    "- Typed arrays\n",
    "- Interoperability with low-level languages"
   ]
  },
  {
   "cell_type": "markdown",
   "id": "4b429a3e-a939-4609-ba39-51306a228ac2",
   "metadata": {},
   "source": [
    "### Q2. What are some of the array package&#39;s limitations?"
   ]
  },
  {
   "cell_type": "markdown",
   "id": "2cbe492d-255e-4dbc-9bd6-fe8a824ff82a",
   "metadata": {},
   "source": [
    "- Fixed size: The size of an array is fixed at the time of creation and cannot be dynamically resized.\n",
    "- Limited functionality: Arrays in the array package have limited functionality compared to other data structures like lists or NumPy arrays.\n",
    "- Lack of built-in methods: The array package lacks some of the built-in methods and functionalities available in other data structures.\n",
    "- Type restrictions: The elements in an array must be of the same type, which can be restrictive in certain situations where heterogeneous data is required.\n",
    "- Lack of high-level operations: The array package does not provide high-level operations and functions commonly found in other data structures or libraries like NumPy."
   ]
  },
  {
   "cell_type": "markdown",
   "id": "46038acb-c51b-49ba-b192-fbaece70bed9",
   "metadata": {},
   "source": [
    "### Q3. Describe the main differences between the array and numpy packages."
   ]
  },
  {
   "cell_type": "markdown",
   "id": "19ca39bb-bebd-4c20-ab32-541cd011f7af",
   "metadata": {},
   "source": [
    "- Numpy provides advanced data structures like ndarrays, which allow for efficient storage and manipulation of multi-dimensional arrays, while the array package has more limited support for array operations.\n",
    "- Numpy offers a wide range of mathematical and statistical functions specifically designed for working with arrays, making it easier to perform complex calculations and data analysis.\n",
    "- Numpy has better performance optimizations and efficient memory management techniques, resulting in faster execution times compared to the array package.\n",
    "- Numpy has a larger user community and extensive documentation, providing a rich ecosystem of libraries and tools that build on top of the numpy functionality."
   ]
  },
  {
   "cell_type": "markdown",
   "id": "b6d57ef4-96db-468a-bbd5-fa1150cc6463",
   "metadata": {},
   "source": [
    "### Q4. Explain the distinctions between the empty, ones, and zeros functions."
   ]
  },
  {
   "cell_type": "markdown",
   "id": "b4a28bd8-ed67-45c6-a95f-0fc6170d246f",
   "metadata": {},
   "source": [
    "- The empty function in numpy creates an array without initializing its elements to any specific values. The array will contain arbitrary values that are determined by the current state of memory. It is a fast way to allocate memory for an array without incurring the overhead of initializing its elements.\n",
    "\n",
    "- The ones function in numpy creates an array filled with the value 1. It takes the shape of the desired array as an argument and creates an array of that shape with all elements set to 1. This function is useful when you need to initialize an array with all elements having the same value.\n",
    "\n",
    "- The zeros function in numpy creates an array filled with the value 0. Similar to the ones function, it takes the shape of the desired array as an argument and creates an array of that shape with all elements set to 0. This function is useful when you need to initialize an array with all elements initialized to zero."
   ]
  },
  {
   "cell_type": "code",
   "execution_count": 3,
   "id": "472683e3-3c1f-4cdb-91c7-e545385f99c0",
   "metadata": {},
   "outputs": [
    {
     "name": "stdout",
     "output_type": "stream",
     "text": [
      "Empty Array:\n",
      "[[6.92005805e-310 6.92005805e-310 7.30331611e+011]\n",
      " [1.06196101e+007 3.13845500e+021 4.56372573e+016]\n",
      " [5.91190555e-302 6.12608227e-302 3.73525915e-301]]\n",
      "Array of Ones:\n",
      "[[1. 1.]\n",
      " [1. 1.]]\n",
      "Array of Zeros:\n",
      "[[0. 0. 0. 0.]\n",
      " [0. 0. 0. 0.]\n",
      " [0. 0. 0. 0.]\n",
      " [0. 0. 0. 0.]]\n"
     ]
    }
   ],
   "source": [
    "import numpy as np\n",
    "\n",
    "# Creating an empty array\n",
    "empty_arr = np.empty((3, 3))\n",
    "print(\"Empty Array:\")\n",
    "print(empty_arr)\n",
    "\n",
    "# Creating an array filled with ones\n",
    "ones_arr = np.ones((2, 2))\n",
    "print(\"Array of Ones:\")\n",
    "print(ones_arr)\n",
    "\n",
    "# Creating an array filled with zeros\n",
    "zeros_arr = np.zeros((4, 4))\n",
    "print(\"Array of Zeros:\")\n",
    "print(zeros_arr)\n"
   ]
  },
  {
   "cell_type": "markdown",
   "id": "dc93c968-c73c-41eb-849b-7e94ce819875",
   "metadata": {},
   "source": [
    "### Q5. In the fromfunction function, which is used to construct new arrays, what is the role of the callable argument?"
   ]
  },
  {
   "cell_type": "code",
   "execution_count": 5,
   "id": "08b5bce3-262a-4fe9-b606-18391a146128",
   "metadata": {},
   "outputs": [
    {
     "name": "stdout",
     "output_type": "stream",
     "text": [
      "[[0. 0. 0.]\n",
      " [0. 1. 2.]\n",
      " [0. 2. 4.]]\n"
     ]
    }
   ],
   "source": [
    "import numpy as np\n",
    "\n",
    "def generate_value(x, y):\n",
    "    return x * y\n",
    "\n",
    "arr = np.fromfunction(generate_value, (3, 3))\n",
    "print(arr)\n"
   ]
  },
  {
   "cell_type": "markdown",
   "id": "30a55b99-83f1-4b31-a98d-613c55d67706",
   "metadata": {},
   "source": [
    "In the fromfunction function of NumPy, the callable argument refers to a function that is used to generate the values for the elements of the new array. The fromfunction function creates a new array by executing the provided function with coordinates as inputs."
   ]
  },
  {
   "cell_type": "markdown",
   "id": "25833fae-987b-4554-a481-6a1758ec79df",
   "metadata": {},
   "source": [
    "### Q6. What happens when a numpy array is combined with a single-value operand (a scalar, such as an int or a floating-point value) through addition, as in the expression A + n?"
   ]
  },
  {
   "cell_type": "markdown",
   "id": "4331adfc-9a49-40e7-82f4-6c4a87113621",
   "metadata": {},
   "source": [
    "When a NumPy array is combined with a single-value operand (a scalar) through addition (+), the scalar value is broadcasted to match the shape of the array, and element-wise addition is performed between the array and the scalar."
   ]
  },
  {
   "cell_type": "code",
   "execution_count": 6,
   "id": "28565d43-a2c1-464d-a73d-9816de456eec",
   "metadata": {},
   "outputs": [
    {
     "name": "stdout",
     "output_type": "stream",
     "text": [
      "[[11 12 13]\n",
      " [14 15 16]]\n"
     ]
    }
   ],
   "source": [
    "import numpy as np\n",
    "\n",
    "A = np.array([[1, 2, 3], [4, 5, 6]])\n",
    "\n",
    "n = 10\n",
    "\n",
    "result = A + n\n",
    "\n",
    "print(result)\n"
   ]
  },
  {
   "cell_type": "markdown",
   "id": "8959582b-fb5a-4617-ae21-dc9a72f2498b",
   "metadata": {},
   "source": [
    "### Q7. Can array-to-scalar operations use combined operation-assign operators (such as += or *=)? What is the outcome?"
   ]
  },
  {
   "cell_type": "markdown",
   "id": "a5aac79c-eb2e-46ca-b4b5-b5eb67aeb492",
   "metadata": {},
   "source": [
    "Yes, array-to-scalar operations can use combined operation-assign operators such as += or *=. The outcome of using these operators is that the operation is applied to each element of the array."
   ]
  },
  {
   "cell_type": "code",
   "execution_count": 10,
   "id": "db132d29-d17f-4613-9de2-3b3de80f589e",
   "metadata": {},
   "outputs": [
    {
     "name": "stdout",
     "output_type": "stream",
     "text": [
      "[2 4 6]\n"
     ]
    }
   ],
   "source": [
    "import numpy as np\n",
    "\n",
    "a = np.array([1, 2, 3])\n",
    "b = 2\n",
    "\n",
    "a *= b\n",
    "print(a)\n"
   ]
  },
  {
   "cell_type": "markdown",
   "id": "4c5f5add-2d68-4134-bc1a-dd422520296a",
   "metadata": {},
   "source": [
    "### Q8. Does a numpy array contain fixed-length strings? What happens if you allocate a longer string to one of these arrays?"
   ]
  },
  {
   "cell_type": "markdown",
   "id": "6808f639-fa8d-4a90-8246-eecd5e3ff86f",
   "metadata": {},
   "source": [
    "\n",
    "\n",
    "Yes, a NumPy array can contain fixed-length strings. When you allocate a longer string to a fixed-length string array, NumPy will truncate the string to fit the specified length."
   ]
  },
  {
   "cell_type": "code",
   "execution_count": 11,
   "id": "8ed596d0-b3f4-47c5-8f89-e0802b3e5148",
   "metadata": {},
   "outputs": [
    {
     "name": "stdout",
     "output_type": "stream",
     "text": [
      "[b'apple' b'straw' b'cherr']\n"
     ]
    }
   ],
   "source": [
    "import numpy as np\n",
    "\n",
    "# Create a fixed-length string array of length 5\n",
    "arr = np.array([\"apple\", \"banana\", \"cherry\"], dtype='S5')\n",
    "\n",
    "# Assign a longer string to one of the elements\n",
    "arr[1] = \"strawberry\"\n",
    "\n",
    "print(arr)\n"
   ]
  },
  {
   "cell_type": "markdown",
   "id": "bca630b7-6a45-4a03-917e-4a0cc5a83127",
   "metadata": {},
   "source": [
    "### Q9. What happens when you combine two numpy arrays using an operation like addition (+) or multiplication (*)? What are the conditions for combining two numpy arrays?"
   ]
  },
  {
   "cell_type": "markdown",
   "id": "53014909-c5f3-49eb-bdde-c32e6807d738",
   "metadata": {},
   "source": [
    "When you combine two NumPy arrays using an operation like addition (+) or multiplication (*), the operation is performed element-wise. This means that the corresponding elements of the arrays are combined according to the operation."
   ]
  },
  {
   "cell_type": "code",
   "execution_count": 12,
   "id": "0d8d890a-1f14-47ab-bbfb-b628cb4de889",
   "metadata": {},
   "outputs": [
    {
     "name": "stdout",
     "output_type": "stream",
     "text": [
      "[5 7 9]\n",
      "[ 4 10 18]\n"
     ]
    }
   ],
   "source": [
    "import numpy as np\n",
    "\n",
    "arr1 = np.array([1, 2, 3])\n",
    "arr2 = np.array([4, 5, 6])\n",
    "\n",
    "print(arr1 + arr2)\n",
    "print(arr1 * arr2)"
   ]
  },
  {
   "cell_type": "markdown",
   "id": "f8727e47-dc70-4620-8c7c-5370ed236188",
   "metadata": {},
   "source": [
    "### Q10. What is the best way to use a Boolean array to mask another array?"
   ]
  },
  {
   "cell_type": "markdown",
   "id": "d28af80c-7600-4808-b1be-460c765a7e04",
   "metadata": {},
   "source": [
    "The best way to use a Boolean array to mask another array in NumPy is by applying the Boolean array as an indexing mask. This allows you to select elements from the array based on the corresponding values in the Boolean array."
   ]
  },
  {
   "cell_type": "code",
   "execution_count": 1,
   "id": "db8b0a5c-3706-4cef-bb09-bd34772ae5cf",
   "metadata": {},
   "outputs": [
    {
     "name": "stdout",
     "output_type": "stream",
     "text": [
      "[1 3 5]\n"
     ]
    }
   ],
   "source": [
    "import numpy as np\n",
    "\n",
    "# Create an array\n",
    "arr = np.array([1, 2, 3, 4, 5])\n",
    "\n",
    "# Create a Boolean mask\n",
    "mask = np.array([True, False, True, False, True])\n",
    "\n",
    "# Mask the array using the Boolean mask\n",
    "masked_arr = arr[mask]\n",
    "\n",
    "print(masked_arr)\n"
   ]
  },
  {
   "cell_type": "markdown",
   "id": "7b9135cb-5af0-4692-901a-6cd5a86e4a31",
   "metadata": {},
   "source": [
    "### Q11. What are three different ways to get the standard deviation of a wide collection of data using both standard Python and its packages? Sort the three of them by how quickly they execute."
   ]
  },
  {
   "cell_type": "code",
   "execution_count": 2,
   "id": "1b893d89-0436-497a-85e9-79528088fa16",
   "metadata": {},
   "outputs": [
    {
     "name": "stdout",
     "output_type": "stream",
     "text": [
      "Standard Deviation (NumPy): 1.4142135623730951\n",
      "Standard Deviation (statistics module): 1.5811388300841898\n",
      "Standard Deviation (manual calculation): 1.4142135623730951\n"
     ]
    }
   ],
   "source": [
    "import numpy as np\n",
    "import statistics\n",
    "import math\n",
    "\n",
    "data = [1, 2, 3, 4, 5]\n",
    "\n",
    "# Using NumPy\n",
    "std_dev_numpy = np.std(data)\n",
    "\n",
    "# Using the statistics module\n",
    "std_dev_statistics = statistics.stdev(data)\n",
    "\n",
    "# Manual calculation\n",
    "mean = sum(data) / len(data)\n",
    "variance = sum((x - mean) ** 2 for x in data) / len(data)\n",
    "std_dev_manual = math.sqrt(variance)\n",
    "\n",
    "print(\"Standard Deviation (NumPy):\", std_dev_numpy)\n",
    "print(\"Standard Deviation (statistics module):\", std_dev_statistics)\n",
    "print(\"Standard Deviation (manual calculation):\", std_dev_manual)\n"
   ]
  },
  {
   "cell_type": "markdown",
   "id": "09857f93-4099-48a4-919f-124604014e1a",
   "metadata": {},
   "source": [
    "### 12. What is the dimensionality of a Boolean mask-generated array?"
   ]
  },
  {
   "cell_type": "markdown",
   "id": "b75f5204-da25-4ca7-a579-e76c92cfb1ac",
   "metadata": {},
   "source": [
    "The dimensionality of a Boolean mask-generated array is the same as the dimensionality of the original array on which the mask is applied. The Boolean mask serves as a filter to select elements from the original array based on certain conditions. The resulting Boolean mask-generated array will have the same number of dimensions as the original array, but its shape may be different depending on the elements selected by the mask."
   ]
  },
  {
   "cell_type": "code",
   "execution_count": null,
   "id": "b48c3f1c-d559-4039-8ac3-7225ac6bfaed",
   "metadata": {},
   "outputs": [],
   "source": []
  }
 ],
 "metadata": {
  "kernelspec": {
   "display_name": "Python 3 (ipykernel)",
   "language": "python",
   "name": "python3"
  },
  "language_info": {
   "codemirror_mode": {
    "name": "ipython",
    "version": 3
   },
   "file_extension": ".py",
   "mimetype": "text/x-python",
   "name": "python",
   "nbconvert_exporter": "python",
   "pygments_lexer": "ipython3",
   "version": "3.10.6"
  }
 },
 "nbformat": 4,
 "nbformat_minor": 5
}
