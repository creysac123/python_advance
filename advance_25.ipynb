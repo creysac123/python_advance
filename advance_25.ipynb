{
 "cells": [
  {
   "cell_type": "markdown",
   "id": "3f798b76-80dd-4d38-951f-47dd14e2f676",
   "metadata": {},
   "source": [
    "### Q1. What is the distinction between a numpy array and a pandas data frame? Is there a way to convert between the two if there is?"
   ]
  },
  {
   "cell_type": "code",
   "execution_count": 3,
   "id": "a8c01d7a-c894-4ad6-bf01-1203514b9c94",
   "metadata": {},
   "outputs": [
    {
     "name": "stdout",
     "output_type": "stream",
     "text": [
      "NumPy Array:\n",
      "[[1 2 3]\n",
      " [4 5 6]\n",
      " [7 8 9]]\n",
      "DataFrame:\n"
     ]
    },
    {
     "data": {
      "text/html": [
       "<div>\n",
       "<style scoped>\n",
       "    .dataframe tbody tr th:only-of-type {\n",
       "        vertical-align: middle;\n",
       "    }\n",
       "\n",
       "    .dataframe tbody tr th {\n",
       "        vertical-align: top;\n",
       "    }\n",
       "\n",
       "    .dataframe thead th {\n",
       "        text-align: right;\n",
       "    }\n",
       "</style>\n",
       "<table border=\"1\" class=\"dataframe\">\n",
       "  <thead>\n",
       "    <tr style=\"text-align: right;\">\n",
       "      <th></th>\n",
       "      <th>A</th>\n",
       "      <th>B</th>\n",
       "      <th>C</th>\n",
       "    </tr>\n",
       "  </thead>\n",
       "  <tbody>\n",
       "    <tr>\n",
       "      <th>0</th>\n",
       "      <td>1</td>\n",
       "      <td>2</td>\n",
       "      <td>3</td>\n",
       "    </tr>\n",
       "    <tr>\n",
       "      <th>1</th>\n",
       "      <td>4</td>\n",
       "      <td>5</td>\n",
       "      <td>6</td>\n",
       "    </tr>\n",
       "    <tr>\n",
       "      <th>2</th>\n",
       "      <td>7</td>\n",
       "      <td>8</td>\n",
       "      <td>9</td>\n",
       "    </tr>\n",
       "  </tbody>\n",
       "</table>\n",
       "</div>"
      ],
      "text/plain": [
       "   A  B  C\n",
       "0  1  2  3\n",
       "1  4  5  6\n",
       "2  7  8  9"
      ]
     },
     "execution_count": 3,
     "metadata": {},
     "output_type": "execute_result"
    }
   ],
   "source": [
    "import numpy as np\n",
    "import pandas as pd\n",
    "\n",
    "# Creating a NumPy array\n",
    "numpy_array = np.array([[1, 2, 3], [4, 5, 6], [7, 8, 9]])\n",
    "\n",
    "# Converting NumPy array to pandas DataFrame\n",
    "df = pd.DataFrame(numpy_array, columns=['A', 'B', 'C'])\n",
    "\n",
    "\n",
    "\n",
    "# Converting pandas DataFrame to NumPy array\n",
    "numpy_array = df.values\n",
    "print(\"NumPy Array:\")\n",
    "print(numpy_array)\n",
    "print(\"DataFrame:\")\n",
    "df"
   ]
  },
  {
   "cell_type": "markdown",
   "id": "b7f26a0d-b992-4a8b-8961-3bac3ea840ea",
   "metadata": {},
   "source": [
    "A NumPy array is a homogeneous n-dimensional array optimized for numerical computations, while a pandas DataFrame is a heterogeneous two-dimensional tabular data structure with powerful data manipulation capabilities.\n",
    "\n",
    "You can convert a NumPy array to a pandas DataFrame using the pd.DataFrame() constructor, and you can convert a pandas DataFrame to a NumPy array using the .values attribute. These conversions allow you to leverage the strengths of both NumPy and pandas in your data analysis tasks."
   ]
  },
  {
   "cell_type": "markdown",
   "id": "56fbf06b-372f-4266-b8d6-7636d94a2f0e",
   "metadata": {},
   "source": [
    "### Q2. What can go wrong when an user enters in a stock-ticker symbol, and how do you handle it?"
   ]
  },
  {
   "cell_type": "markdown",
   "id": "61830ed1-0229-46f4-a434-b0aa02f34103",
   "metadata": {},
   "source": [
    "When a user enters a stock ticker symbol, potential issues include invalid symbols, case sensitivity, missing or delayed data, ambiguous symbols, and data integrity/security concerns. These can be addressed by validating the input, handling errors, ensuring data availability, clarifying user intent, and implementing input validation and sanitization."
   ]
  },
  {
   "cell_type": "markdown",
   "id": "0dbaaaf7-9a68-4f8e-90d1-aec058e245cf",
   "metadata": {},
   "source": [
    "### Q3. Identify some of the plotting techniques that are used to produce a stock-market chart."
   ]
  },
  {
   "cell_type": "markdown",
   "id": "c3d3d6f1-cc8c-44ba-8054-a549899e464e",
   "metadata": {},
   "source": [
    "Common plotting techniques used for stock market charts include:\n",
    "\n",
    "- Line Charts: Show the trend of stock prices over time using connected lines.\n",
    "\n",
    "- Candlestick Charts: Display open, high, low, and close prices as rectangular \"candles\" with wicks.\n",
    "\n",
    "- OHLC Charts: Represent open, high, low, and close prices using vertical lines and horizontal lines.\n",
    "\n",
    "- Bar Charts: Use vertical bars to show price movements, including open, high, low, and close prices.\n",
    "\n",
    "- Volume Charts: Focus on trading volume, using bars or lines to indicate the volume traded during each period.\n",
    "\n",
    "- Moving Average Charts: Plot average closing prices over a specific period to identify trends and smooth out fluctuations.\n",
    "\n",
    "- Technical Indicators: Additional indicators like moving averages, Bollinger Bands, RSI, and MACD can be plotted alongside price charts to provide further insights."
   ]
  },
  {
   "cell_type": "markdown",
   "id": "d6080f84-e9d3-485b-a764-7e8d7b78cbfa",
   "metadata": {},
   "source": [
    "### Q4. Why is it essential to print a legend on a stock market chart?"
   ]
  },
  {
   "cell_type": "markdown",
   "id": "4f8ead6e-64e3-46b2-ad29-06848a090edf",
   "metadata": {},
   "source": [
    "A legend is essential on a stock market chart for the following reasons:\n",
    "\n",
    "- Clarity: A legend provides clear labeling for different elements in the chart, making it easier to understand.\n",
    "\n",
    "- Identification: It helps identify specific data series or components represented in the chart, such as prices, indicators, or volume.\n",
    "\n",
    "- Comparison: A legend enables users to compare and analyze different elements, facilitating technical analysis and decision-making.\n",
    "\n",
    "- Communication: When sharing the chart, a legend ensures effective communication of information without the need for further explanation."
   ]
  },
  {
   "cell_type": "markdown",
   "id": "045e67b8-5a28-44d4-b5b3-f2c640e3e1d8",
   "metadata": {},
   "source": [
    "### Q5. What is the best way to limit the length of a pandas data frame to less than a year?"
   ]
  },
  {
   "cell_type": "code",
   "execution_count": null,
   "id": "98cc3590-792f-4b9c-b169-a832bbcdfec7",
   "metadata": {},
   "outputs": [],
   "source": [
    "#1. Filtering by Date Comparison:\n",
    "   ```python\n",
    "    filtered_df = df[df['date'] >= pd.to_datetime('start_date') & df['date'] <= pd.to_datetime('end_date')]\n",
    "   ```\n",
    "\n",
    "#2. Filtering with pd.DateOffset:\n",
    "   ```python\n",
    "    time_range = pd.DateOffset(years=1)\n",
    "    filtered_df = df[df['date'] >= pd.to_datetime('today') - time_range]\n",
    "   ```\n",
    "\n",
    "#3. Resampling to a Lower Frequency:\n",
    "   ```python\n",
    "    resampled_df = df.resample('D').mean()  # Resample to daily frequency\n",
    "    filtered_df = resampled_df.loc[resampled_df.index.year == desired_year]\n",
    "   ```\n",
    "\n",
    "#4. Slicing using Indexing:\n",
    "   ```python\n",
    "    filtered_df = df[df.index >= pd.to_datetime('start_date') & df.index <= pd.to_datetime('end_date')]\n",
    "   ```\n",
    "\n",
    "#5. Grouping by Year:\n",
    "   ```python\n",
    "    filtered_df = df.groupby(df['date'].dt.year).get_group(desired_year)\n",
    "   ```\n",
    "\n"
   ]
  },
  {
   "cell_type": "markdown",
   "id": "b06072e3-3c48-46fc-b3b6-62f45a7a9f1a",
   "metadata": {},
   "source": [
    "### Q6. What is the definition of a 180-day moving average?"
   ]
  },
  {
   "cell_type": "markdown",
   "id": "48f43c7b-8746-43d4-8e9d-fc62fea6f452",
   "metadata": {},
   "source": [
    "180-day moving average is a calculation that represents the average value of a variable over a 180-day period. It is used to analyze trends and smooth out short-term fluctuations in the variable's values. By calculating the average over a specific time frame, it provides a broader perspective on the variable's behavior and helps identify the overall direction of its trend. The 180-day moving average can be applied to various domains, such as economic data, population statistics, weather patterns, or any other dataset where tracking long-term trends and reducing noise is desired."
   ]
  },
  {
   "cell_type": "markdown",
   "id": "21f1fc37-a166-4816-bdce-4a6fa8c68e6e",
   "metadata": {},
   "source": [
    "### Q7. Did the chapter&#39;s final example use &quot;indirect&quot; importing? If so, how exactly do you do it?"
   ]
  },
  {
   "cell_type": "markdown",
   "id": "570a08af-dc97-4afa-b9f7-f68f3eabb522",
   "metadata": {},
   "source": [
    "In Python, the term \"indirect importing\" typically refers to importing a module indirectly through another module or script. It means that instead of directly importing a module in your current script, you import it indirectly through another module or script."
   ]
  },
  {
   "cell_type": "code",
   "execution_count": null,
   "id": "11eb48c2-0f02-476c-a82a-f0fd30659186",
   "metadata": {},
   "outputs": [],
   "source": [
    "# Import the desired module\n",
    "import desired_module\n",
    "\n",
    "# Define a function that utilizes the desired module's functionality\n",
    "def perform_task():\n",
    "    desired_module.some_function()\n"
   ]
  }
 ],
 "metadata": {
  "kernelspec": {
   "display_name": "Python 3 (ipykernel)",
   "language": "python",
   "name": "python3"
  },
  "language_info": {
   "codemirror_mode": {
    "name": "ipython",
    "version": 3
   },
   "file_extension": ".py",
   "mimetype": "text/x-python",
   "name": "python",
   "nbconvert_exporter": "python",
   "pygments_lexer": "ipython3",
   "version": "3.10.6"
  }
 },
 "nbformat": 4,
 "nbformat_minor": 5
}
