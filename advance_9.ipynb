{
 "cells": [
  {
   "cell_type": "markdown",
   "id": "b41408b7-f9b1-4a67-be05-f9caa9de1652",
   "metadata": {},
   "source": [
    "### Q1. In Python 3.X, what are the names and functions of string object types?"
   ]
  },
  {
   "cell_type": "markdown",
   "id": "04d45b06-4cd3-455c-82ca-8766d7ac6773",
   "metadata": {},
   "source": [
    "`str`: len(), lower(), upper(), replace(), split(), join(), and more. More here: https://www.w3schools.com/python/python_ref_string.asp"
   ]
  },
  {
   "cell_type": "markdown",
   "id": "84a86efd-d960-48ee-8843-62a1e98bd0cd",
   "metadata": {},
   "source": [
    "### Q2. How do the string forms in Python 3.X vary in terms of operations?"
   ]
  },
  {
   "cell_type": "markdown",
   "id": "e1b354cc-4fc4-4be6-88c0-6d5d427be248",
   "metadata": {},
   "source": [
    "In Python3 default format of strings is Unicode Whereas in Pyton2 we need to explicitly mention Unicode value using u"
   ]
  },
  {
   "cell_type": "markdown",
   "id": "895349a7-7a88-4b1f-8d74-7ae9f65c0739",
   "metadata": {},
   "source": [
    "### Q3. In 3.X, how do you put non-ASCII Unicode characters in a string?"
   ]
  },
  {
   "cell_type": "markdown",
   "id": "1a0dbda1-094d-46f1-9511-8016c68e62f0",
   "metadata": {},
   "source": [
    "In Python 3.x unidecode() method from unidecode library can be used to put non-ASCII Unicode Characters in a string."
   ]
  },
  {
   "cell_type": "code",
   "execution_count": 5,
   "id": "599a2a81-34bb-4f5a-bc44-a13649851881",
   "metadata": {},
   "outputs": [
    {
     "name": "stdout",
     "output_type": "stream",
     "text": [
      "creysac\n"
     ]
    }
   ],
   "source": [
    "from unidecode import unidecode\n",
    "print(unidecode(u'cr\\u00E9ysac'))"
   ]
  },
  {
   "cell_type": "code",
   "execution_count": 2,
   "id": "e0c5a1f9-3691-4787-9395-6c638d6a74c8",
   "metadata": {},
   "outputs": [
    {
     "name": "stdout",
     "output_type": "stream",
     "text": [
      "Collecting unidecode\n",
      "  Downloading Unidecode-1.3.6-py3-none-any.whl (235 kB)\n",
      "\u001b[2K     \u001b[90m━━━━━━━━━━━━━━━━━━━━━━━━━━━━━━━━━━━━━━\u001b[0m \u001b[32m235.9/235.9 kB\u001b[0m \u001b[31m19.9 MB/s\u001b[0m eta \u001b[36m0:00:00\u001b[0m\n",
      "\u001b[?25hInstalling collected packages: unidecode\n",
      "Successfully installed unidecode-1.3.6\n",
      "Note: you may need to restart the kernel to use updated packages.\n"
     ]
    }
   ],
   "source": [
    "pip install unidecode"
   ]
  },
  {
   "cell_type": "markdown",
   "id": "773bd867-50f9-441e-b30c-f023ca0314db",
   "metadata": {},
   "source": [
    "### Q4. In Python 3.X, what are the key differences between text-mode and binary-mode files?"
   ]
  },
  {
   "cell_type": "markdown",
   "id": "41a04713-8999-4380-89e4-582d835f5549",
   "metadata": {},
   "source": [
    "\n",
    "\n",
    "In Python 3.X, the key differences between text-mode and binary-mode files are:\n",
    "\n",
    "- Encoding Handling: Text-mode files handle encoding and decoding of data, while binary-mode files treat data as a sequence of bytes.\n",
    "- Newline Handling: Text-mode files automatically handle newline translation, while binary-mode files do not perform any translation.\n",
    "- File Object Methods: Text-mode files have additional methods for working with text data, while binary-mode files lack these methods.\n",
    "\n",
    "Default File Mode: In Python 3.X, opening a file without specifying a mode defaults to text mode, unlike Python 2.X where binary mode is the default."
   ]
  },
  {
   "cell_type": "markdown",
   "id": "c4932821-f65e-4759-b4ad-de5f83b61f06",
   "metadata": {},
   "source": [
    "### Q5. How can you interpret a Unicode text file containing text encoded in a different encoding than your platform&#39;s default?"
   ]
  },
  {
   "cell_type": "markdown",
   "id": "6e235eb5-285a-4e21-82b6-b8ea1b5055ad",
   "metadata": {},
   "source": [
    "Use of encode() and decode() method can be used to you interpret a Unicode text file containing text encoded in a different encoding than your platform's default, by default encoding parameter is UTF-8. You can try with different encoding parameters like utf-16"
   ]
  },
  {
   "cell_type": "markdown",
   "id": "38e9f6f6-6b1e-40dd-aebb-f6420d960a1c",
   "metadata": {},
   "source": [
    "### Q6. What is the best way to make a Unicode text file in a particular encoding format?"
   ]
  },
  {
   "cell_type": "markdown",
   "id": "8e94e85f-486b-4728-ad7d-c7fdc5bdd952",
   "metadata": {},
   "source": [
    "The best way to create a Unicode text file in a particular encoding format is to use the open() function with the appropriate encoding parameter when writing to the file. Here's an example:"
   ]
  },
  {
   "cell_type": "code",
   "execution_count": 7,
   "id": "03c2337b-7165-4930-93dd-e28e17a9cb95",
   "metadata": {},
   "outputs": [
    {
     "name": "stdout",
     "output_type": "stream",
     "text": [
      "Content written to the file: This is a sample text.\n"
     ]
    }
   ],
   "source": [
    "with open('myfile.txt', 'w', encoding='utf-8') as file:\n",
    "    content = \"This is a sample text.\"\n",
    "    file.write(content)\n",
    "    print(\"Content written to the file:\", content)\n"
   ]
  },
  {
   "cell_type": "markdown",
   "id": "ee755c35-9f70-4231-9c6f-652c1b3e9195",
   "metadata": {},
   "source": [
    "### Q7. What qualifies ASCII text as a form of Unicode text?"
   ]
  },
  {
   "cell_type": "markdown",
   "id": "8380f740-2d25-4458-b56d-5abcdb29e0f5",
   "metadata": {},
   "source": [
    "ASCII text is a form of Unicode text because ASCII characters are a subset of Unicode characters. ASCII characters have the same representations and meanings in both ASCII and Unicode encoding. Therefore, ASCII text can be treated as Unicode text within Unicode-based systems and applications."
   ]
  },
  {
   "cell_type": "markdown",
   "id": "244bb1d6-0ea0-4274-ba38-87df4895d5ee",
   "metadata": {},
   "source": [
    "### Q8. How much of an effect does the change in string types in Python 3.X have on your code?"
   ]
  },
  {
   "cell_type": "markdown",
   "id": "0d7d2253-d796-456c-a78e-ead8443e687b",
   "metadata": {},
   "source": [
    "Python 3 stores strings as Unicode by default whereas Python 2 requires you to mark a string with a u if you want to store it as Unicode. Unicode strings are more versatile than ASCII strings, which are the Python 3.X default, as they can store letters from foreign languages as well as emoji and the standard Roman letters and numerals."
   ]
  },
  {
   "cell_type": "code",
   "execution_count": null,
   "id": "9c971233-5174-4e3c-b0b2-fc5b073b689e",
   "metadata": {},
   "outputs": [],
   "source": []
  }
 ],
 "metadata": {
  "kernelspec": {
   "display_name": "Python 3 (ipykernel)",
   "language": "python",
   "name": "python3"
  },
  "language_info": {
   "codemirror_mode": {
    "name": "ipython",
    "version": 3
   },
   "file_extension": ".py",
   "mimetype": "text/x-python",
   "name": "python",
   "nbconvert_exporter": "python",
   "pygments_lexer": "ipython3",
   "version": "3.10.6"
  }
 },
 "nbformat": 4,
 "nbformat_minor": 5
}
