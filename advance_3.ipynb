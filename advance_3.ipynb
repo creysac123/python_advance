{
 "cells": [
  {
   "cell_type": "markdown",
   "id": "93da58a5-5b8b-4106-a033-4aee24dc5132",
   "metadata": {},
   "source": [
    "### 1. What is the concept of an abstract superclass?"
   ]
  },
  {
   "cell_type": "markdown",
   "id": "6f300a63-547b-425b-8dc6-51acfbef9b65",
   "metadata": {},
   "source": [
    "An abstract class/superclass can be considered as a blueprint for other classes. It allows you to create a set of methods that must be created within any child classes built from the abstract class. \n",
    "\n",
    "A class which contains one or more abstract methods is called an abstract class.\n",
    "\n",
    "Whereas an abstract method is a method that has a declaration but does not have an implementation"
   ]
  },
  {
   "cell_type": "code",
   "execution_count": 1,
   "id": "7ee0df94-1804-4426-b6f2-90b18cc756b2",
   "metadata": {},
   "outputs": [
    {
     "name": "stdout",
     "output_type": "stream",
     "text": [
      "Woof!\n",
      "Zzzz...\n",
      "Meow!\n",
      "Zzzz...\n"
     ]
    }
   ],
   "source": [
    "from abc import ABC, abstractmethod\n",
    "\n",
    "class Animal(ABC):\n",
    "    @abstractmethod\n",
    "    def make_sound(self):\n",
    "        pass\n",
    "\n",
    "    def sleep(self):\n",
    "        print(\"Zzzz...\")\n",
    "\n",
    "class Dog(Animal):\n",
    "    def make_sound(self):\n",
    "        print(\"Woof!\")\n",
    "\n",
    "class Cat(Animal):\n",
    "    def make_sound(self):\n",
    "        print(\"Meow!\")\n",
    "        \n",
    "        \n",
    "dog = Dog()\n",
    "dog.make_sound()  \n",
    "dog.sleep()      \n",
    "\n",
    "cat = Cat()\n",
    "cat.make_sound()  \n",
    "cat.sleep()  "
   ]
  },
  {
   "cell_type": "markdown",
   "id": "e094eac3-08c3-4f27-9b0f-e21b0fa5e65f",
   "metadata": {},
   "source": [
    "### 2. What happens when a class statement&#39;s top level contains a basic assignment statement?"
   ]
  },
  {
   "cell_type": "markdown",
   "id": "cf27df7e-b2ca-4b1c-813b-cce9c8a87909",
   "metadata": {},
   "source": [
    "When a class statement's top level contains a basic assignment statement in Python, it creates a class-level attribute. This means that the assigned value becomes a member of the class itself rather than an instance-specific attribute."
   ]
  },
  {
   "cell_type": "code",
   "execution_count": 2,
   "id": "ed25c892-77e5-4fd7-a864-12e6d13f2b4b",
   "metadata": {},
   "outputs": [
    {
     "name": "stdout",
     "output_type": "stream",
     "text": [
      "10\n",
      "10\n",
      "20\n",
      "30\n"
     ]
    }
   ],
   "source": [
    "class MyClass:\n",
    "    x = 10  # Class-level attribute\n",
    "\n",
    "    def __init__(self, y):\n",
    "        self.y = y  # Instance attribute\n",
    "\n",
    "obj1 = MyClass(20)\n",
    "obj2 = MyClass(30)\n",
    "\n",
    "print(obj1.x)  \n",
    "print(obj2.x) \n",
    "\n",
    "print(obj1.y) \n",
    "print(obj2.y)  \n"
   ]
  },
  {
   "cell_type": "markdown",
   "id": "ead7e030-2e02-4286-a18b-7d1425789257",
   "metadata": {},
   "source": [
    "### 3. Why does a class need to manually call a superclass&#39;s __init__ method?"
   ]
  },
  {
   "cell_type": "markdown",
   "id": "a14ea1ea-b324-475a-9433-f642270cde0e",
   "metadata": {},
   "source": [
    "A class needs to manually call a superclass's __init__ method in Python to properly initialize attributes inherited from the superclass and ensure correct initialization order and behavior. The __init__ method of the superclass is not automatically called when a subclass is defined, so the subclass must explicitly invoke the superclass's __init__ method to perform any necessary initialization steps defined in the superclass."
   ]
  },
  {
   "cell_type": "code",
   "execution_count": 4,
   "id": "9a0a9ed6-3615-44f0-92f2-c806b62cc466",
   "metadata": {},
   "outputs": [
    {
     "name": "stdout",
     "output_type": "stream",
     "text": [
      "Red\n",
      "Toyota\n"
     ]
    }
   ],
   "source": [
    "class Vehicle:\n",
    "    def __init__(self, color):\n",
    "        self.color = color\n",
    "\n",
    "class Car(Vehicle):\n",
    "    def __init__(self, color, brand):\n",
    "        super().__init__(color)  # Calling superclass's __init__ method\n",
    "        self.brand = brand\n",
    "\n",
    "car = Car(\"Red\", \"Toyota\")\n",
    "print(car.color)  \n",
    "print(car.brand)  \n"
   ]
  },
  {
   "cell_type": "markdown",
   "id": "1db6fa21-b69a-4120-890b-aaa6c7af4655",
   "metadata": {},
   "source": [
    "### 4. How can you augment, instead of completely replacing, an inherited method?"
   ]
  },
  {
   "cell_type": "markdown",
   "id": "96f5ab48-3b52-4579-9de3-e609e42850e2",
   "metadata": {},
   "source": [
    "To augment an inherited method in Python without completely replacing it, you can use method overriding and call the superclass's method within the overriding method. This allows you to add extra functionality to the inherited method while preserving the original behavior."
   ]
  },
  {
   "cell_type": "code",
   "execution_count": 5,
   "id": "9cd8ac76-d624-4532-ab85-04988e5d9a21",
   "metadata": {},
   "outputs": [
    {
     "name": "stdout",
     "output_type": "stream",
     "text": [
      "Hello, I am the parent!\n",
      "And I am the child!\n"
     ]
    }
   ],
   "source": [
    "class Parent:\n",
    "    def greet(self):\n",
    "        print(\"Hello, I am the parent!\")\n",
    "\n",
    "class Child(Parent):\n",
    "    def greet(self):\n",
    "        super().greet()  # Call the parent's greet() method\n",
    "        print(\"And I am the child!\")\n",
    "\n",
    "child = Child()\n",
    "child.greet()\n"
   ]
  },
  {
   "cell_type": "markdown",
   "id": "6f684b7e-0ac1-4ea1-9a04-363ef199e497",
   "metadata": {},
   "source": [
    "### 5. How is the local scope of a class different from that of a function?"
   ]
  },
  {
   "cell_type": "markdown",
   "id": "11e209dd-3cb7-4c6c-bca5-e4b950ae1cb7",
   "metadata": {},
   "source": [
    "The local scope of a class refers to variables within the class definition, accessible within class methods and attributes. The local scope of a function refers to variables within the function definition, accessible only within the function itself. Class local scope is for class attributes and instance attributes, while function local scope is for local variables."
   ]
  },
  {
   "cell_type": "code",
   "execution_count": 7,
   "id": "3ee33eb9-5c13-43b6-90d3-2d98b9b8e1f5",
   "metadata": {},
   "outputs": [
    {
     "name": "stdout",
     "output_type": "stream",
     "text": [
      "Inside class method:\n",
      "Accessing class attribute: 10\n",
      "Accessing instance attribute: 20\n",
      "Inside another class method:\n",
      "Instance attribute not accessible in this method.\n"
     ]
    }
   ],
   "source": [
    "class MyClass:\n",
    "    class_var = 10  # Class attribute\n",
    "\n",
    "    def class_method(self):\n",
    "        instance_var = 20  # Instance attribute\n",
    "        print(\"Inside class method:\")\n",
    "        print(\"Accessing class attribute:\", self.class_var)\n",
    "        print(\"Accessing instance attribute:\", instance_var)\n",
    "\n",
    "    def another_class_method(self):\n",
    "        print(\"Inside another class method:\")\n",
    "        try:\n",
    "            # Trying to access instance attribute from a different method\n",
    "            print(\"Accessing instance attribute:\", instance_var)\n",
    "        except NameError:\n",
    "            print(\"Instance attribute not accessible in this method.\")\n",
    "\n",
    "my_obj = MyClass()\n",
    "my_obj.class_method()          \n",
    "my_obj.another_class_method() \n"
   ]
  },
  {
   "cell_type": "code",
   "execution_count": null,
   "id": "9fe94311-7b73-465a-8ba9-de015d5e2d28",
   "metadata": {},
   "outputs": [],
   "source": []
  }
 ],
 "metadata": {
  "kernelspec": {
   "display_name": "Python 3 (ipykernel)",
   "language": "python",
   "name": "python3"
  },
  "language_info": {
   "codemirror_mode": {
    "name": "ipython",
    "version": 3
   },
   "file_extension": ".py",
   "mimetype": "text/x-python",
   "name": "python",
   "nbconvert_exporter": "python",
   "pygments_lexer": "ipython3",
   "version": "3.10.6"
  }
 },
 "nbformat": 4,
 "nbformat_minor": 5
}
