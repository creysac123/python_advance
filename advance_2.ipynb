{
 "cells": [
  {
   "cell_type": "markdown",
   "id": "39539959-4b2a-46c7-b9b2-2b4b95bdcd9d",
   "metadata": {},
   "source": [
    "### Q1. What is the relationship between classes and modules?"
   ]
  },
  {
   "cell_type": "markdown",
   "id": "0aa5cd98-3102-4175-b987-5978866dc520",
   "metadata": {},
   "source": [
    "- Modules in Python are files containing code, while classes define blueprints for creating objects.\n",
    "\n",
    "- Classes are often defined within modules, allowing for organization and encapsulation of related code.\n",
    "\n",
    "- Modules serve as containers for classes and other code elements, promoting code organization and reuse.\n",
    "\n",
    "- Classes defined in modules can be imported and used in other parts of the code.\n",
    "\n",
    "- Modules provide namespace separation, allowing classes with the same name to coexist without conflicts.\n",
    "\n",
    "- The relationship between classes and modules enables code modularity and structured development in Python."
   ]
  },
  {
   "cell_type": "markdown",
   "id": "99e72fc5-be18-47fc-a439-d4a13f9c125c",
   "metadata": {},
   "source": [
    "### Q2. How do you make instances and classes?"
   ]
  },
  {
   "cell_type": "markdown",
   "id": "99c91cfa-10b1-491c-85a7-42940926fcbe",
   "metadata": {},
   "source": [
    "- Define a Class: Start by defining a class using the class keyword. The class serves as a blueprint for creating objects.\n",
    "\n",
    "- Instantiate a Class: To create an instance of a class, call the class as if it were a function, passing any required arguments to the class's __init__ method. This method initializes the object's attributes and sets its initial state.\n",
    "\n",
    "- Access Attributes and Methods: Once you have an instance of a class, you can access its attributes and call its methods using dot notation (instance.attribute or instance.method())."
   ]
  },
  {
   "cell_type": "markdown",
   "id": "1775502e-2723-459b-9f5b-8b1b9fb36b41",
   "metadata": {},
   "source": [
    "### Q3. Where and how should be class attributes created?"
   ]
  },
  {
   "cell_type": "markdown",
   "id": "052e07fc-91bc-4155-b096-5f6511c6681b",
   "metadata": {},
   "source": [
    "Class attributes in Python can be created within the class definition and are shared by all instances of the class. They are typically defined directly beneath the class header and outside of any methods.\n",
    "\n",
    "Here's how and where you should create class attributes:\n",
    "\n",
    "- Within the Class Definition: Define class attributes directly below the class header, outside of any methods, but within the class block. These attributes are associated with the class itself rather than individual instances of the class.\n",
    "\n",
    "- Using the Class Name: To define a class attribute, use the class name followed by the attribute name and assign a value to it."
   ]
  },
  {
   "cell_type": "code",
   "execution_count": 1,
   "id": "8e0c250d-c9fc-4152-8cf0-4568c7d35b1d",
   "metadata": {},
   "outputs": [
    {
     "name": "stdout",
     "output_type": "stream",
     "text": [
      "Toyota\n",
      "Honda\n",
      "red\n",
      "red\n"
     ]
    }
   ],
   "source": [
    "class Car:\n",
    "    # Class attribute defined within the class\n",
    "    color = \"red\"\n",
    "\n",
    "    def __init__(self, brand):\n",
    "        self.brand = brand  # Instance attribute\n",
    "\n",
    "car1 = Car(\"Toyota\")\n",
    "car2 = Car(\"Honda\")\n",
    "\n",
    "print(car1.brand)  \n",
    "print(car2.brand)  \n",
    "print(car1.color)  \n",
    "print(car2.color)  \n"
   ]
  },
  {
   "cell_type": "markdown",
   "id": "a3c3bce1-3f23-4061-96b5-f34fb7c6d208",
   "metadata": {},
   "source": [
    "### Q4. Where and how are instance attributes created?"
   ]
  },
  {
   "cell_type": "markdown",
   "id": "33bd07a1-2578-40d9-a90c-29adb11d825f",
   "metadata": {},
   "source": [
    "Instance attributes in Python are created within the __init__ method of a class. This method serves as the constructor and is called when an instance of the class is created. Instance attributes are specific to each instance of the class and store unique data for each object."
   ]
  },
  {
   "cell_type": "code",
   "execution_count": 2,
   "id": "39d78695-54cb-4926-856e-59e3d5e4ab00",
   "metadata": {},
   "outputs": [
    {
     "name": "stdout",
     "output_type": "stream",
     "text": [
      "Toyota\n",
      "red\n",
      "Honda\n",
      "blue\n"
     ]
    }
   ],
   "source": [
    "class Car:\n",
    "    def __init__(self, brand, color):\n",
    "        self.brand = brand  # Instance attribute\n",
    "        self.color = color  # Instance attribute\n",
    "\n",
    "car1 = Car(\"Toyota\", \"red\")\n",
    "car2 = Car(\"Honda\", \"blue\")\n",
    "\n",
    "print(car1.brand)  \n",
    "print(car1.color)  \n",
    "print(car2.brand)  \n",
    "print(car2.color)  \n"
   ]
  },
  {
   "cell_type": "markdown",
   "id": "bdb3256d-520d-4574-97e5-1a60185c72aa",
   "metadata": {},
   "source": [
    "### Q5. What does the term &quot;self&quot; in a Python class mean?"
   ]
  },
  {
   "cell_type": "markdown",
   "id": "cfb3507d-d429-43e1-8b12-73c97fa34028",
   "metadata": {},
   "source": [
    "In Python, the term \"self\" is a convention used to refer to the instance of a class within its methods. It allows access to the instance's attributes and methods. It is the first parameter in most class methods and provides a way to access instance-specific data. \"self\" is a widely adopted naming convention for clarity and consistency in code."
   ]
  },
  {
   "cell_type": "code",
   "execution_count": 4,
   "id": "a6a7e367-8f0e-4b3e-8102-d6da732d3122",
   "metadata": {},
   "outputs": [
    {
     "name": "stdout",
     "output_type": "stream",
     "text": [
      "My name is Creysac, and I am 25 years old.\n"
     ]
    }
   ],
   "source": [
    "class Person:\n",
    "    def __init__(self, name, age):\n",
    "        self.name = name  # Instance attribute\n",
    "        self.age = age  # Instance attribute\n",
    "\n",
    "    def introduce(self):\n",
    "        print(f\"My name is {self.name}, and I am {self.age} years old.\")\n",
    "\n",
    "person = Person(\"Creysac\", 25)\n",
    "person.introduce()  \n"
   ]
  },
  {
   "cell_type": "markdown",
   "id": "c6587b9f-b140-4c14-83d5-904c9ac7d453",
   "metadata": {},
   "source": [
    "### Q6. How does a Python class handle operator overloading?"
   ]
  },
  {
   "cell_type": "markdown",
   "id": "7949ce97-d036-40a9-a79a-4f1584f869e7",
   "metadata": {},
   "source": [
    "To handle operator overloading in a Python class, you can define special methods with predefined names, also known as magic methods or dunder methods. These methods define the behavior of operators when applied to instances of the class.\n",
    "\n",
    "Here are some commonly used magic methods for operator overloading:\n",
    "\n",
    "- __add__(self, other): Handles the + operator.\n",
    "- __sub__(self, other): Handles the - operator.\n",
    "- __mul__(self, other): Handles the * operator.\n",
    "- __div__(self, other): Handles the / operator.\n",
    "- __eq__(self, other): Handles the == operator.\n",
    "- __lt__(self, other): Handles the < operator.\n",
    "- __gt__(self, other): Handles the > operator.\n",
    "\n",
    "and many more."
   ]
  },
  {
   "cell_type": "code",
   "execution_count": 5,
   "id": "6acb9043-690f-4e56-a02d-9effd78b7fc7",
   "metadata": {},
   "outputs": [
    {
     "name": "stdout",
     "output_type": "stream",
     "text": [
      "6 8\n",
      "False\n"
     ]
    }
   ],
   "source": [
    "class Vector:\n",
    "    def __init__(self, x, y):\n",
    "        self.x = x\n",
    "        self.y = y\n",
    "\n",
    "    def __add__(self, other):\n",
    "        return Vector(self.x + other.x, self.y + other.y)\n",
    "\n",
    "    def __eq__(self, other):\n",
    "        return self.x == other.x and self.y == other.y\n",
    "\n",
    "vector1 = Vector(2, 3)\n",
    "vector2 = Vector(4, 5)\n",
    "\n",
    "sum_vector = vector1 + vector2\n",
    "print(sum_vector.x, sum_vector.y)  \n",
    "\n",
    "print(vector1 == vector2)  \n"
   ]
  },
  {
   "cell_type": "markdown",
   "id": "d4ba9573-f53d-445a-a3af-c78677784a21",
   "metadata": {},
   "source": [
    "### Q7. When do you consider allowing operator overloading of your classes?"
   ]
  },
  {
   "cell_type": "markdown",
   "id": "ddaf04e8-9b03-4efe-8399-1e856a863ffe",
   "metadata": {},
   "source": [
    "- In Python, operator overloading can be used to enhance clarity and expressiveness in your class's usage. \n",
    "- It can be beneficial for mathematical operations, custom container behavior, comparisons, string representation, and operator chaining. \n",
    "- However, it should follow Python conventions and be used judiciously to maintain readability and simplicity."
   ]
  },
  {
   "cell_type": "markdown",
   "id": "8b4884b5-5a5a-43f0-b283-a429f9e0e943",
   "metadata": {},
   "source": [
    "### Q8. What is the most popular form of operator overloading?"
   ]
  },
  {
   "cell_type": "markdown",
   "id": "6db3f892-e8df-4049-82f9-16d96abfecbf",
   "metadata": {},
   "source": [
    "- In Python, the most popular form of operator overloading is the method-based operator overloading. \n",
    "- It involves defining special methods in a class that correspond to specific operators.\n",
    "- These methods allow you to customize the behavior of operators when applied to objects of your class."
   ]
  },
  {
   "cell_type": "markdown",
   "id": "de7fb88b-5fb5-454a-a79b-61df2c26a879",
   "metadata": {},
   "source": [
    "### Q9. What are the two most important concepts to grasp in order to comprehend Python OOP code?"
   ]
  },
  {
   "cell_type": "markdown",
   "id": "53e0396c-1d85-4ef0-be0b-92c161006746",
   "metadata": {},
   "source": [
    "- Classes and Objects: Classes serve as blueprints defining properties and behaviors, while objects are instances of classes encapsulating data and functionality. Knowing how to create and use classes and objects is fundamental in OOP.\n",
    "\n",
    "- Inheritance and Polymorphism: Inheritance allows classes to inherit properties and behaviors from parent classes, facilitating code reuse. Polymorphism enables treating objects of different classes interchangeably through a shared interface, leading to flexible and modular code. These concepts foster a deeper understanding of Python OOP code."
   ]
  },
  {
   "cell_type": "code",
   "execution_count": null,
   "id": "773c57ae-fc3a-49ed-93b1-1b97ce4b2d88",
   "metadata": {},
   "outputs": [],
   "source": []
  }
 ],
 "metadata": {
  "kernelspec": {
   "display_name": "Python 3 (ipykernel)",
   "language": "python",
   "name": "python3"
  },
  "language_info": {
   "codemirror_mode": {
    "name": "ipython",
    "version": 3
   },
   "file_extension": ".py",
   "mimetype": "text/x-python",
   "name": "python",
   "nbconvert_exporter": "python",
   "pygments_lexer": "ipython3",
   "version": "3.10.6"
  }
 },
 "nbformat": 4,
 "nbformat_minor": 5
}
