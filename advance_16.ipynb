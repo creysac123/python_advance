{
 "cells": [
  {
   "cell_type": "markdown",
   "id": "4926fe49-9ba3-4476-96d3-6025f23917ea",
   "metadata": {},
   "source": [
    "### Q1. What is the benefit of regular expressions?"
   ]
  },
  {
   "cell_type": "markdown",
   "id": "6e2e4125-82cf-4e99-959f-ffb485e343ed",
   "metadata": {},
   "source": [
    "- Pattern Matching: Regular expressions allow for searching and extracting specific patterns of text within strings.\n",
    "\n",
    "- Text Validation: They enable validation and verification of input data by checking if it adheres to specific patterns or constraints.\n",
    "\n",
    "- Text Manipulation: Regular expressions facilitate advanced text manipulation operations like replacing, extracting, splitting, and rearranging text elements.\n",
    "\n",
    "- Language-Agnostic: Regular expressions are supported in various programming languages and tools, making them portable across different platforms.\n",
    "\n",
    "- Efficiency: They provide efficient text processing, optimized for handling large datasets or complex patterns.\n",
    "\n",
    "- Standardized Syntax: Regular expressions have a standardized syntax, allowing for easy transfer of knowledge and skills across projects and teams."
   ]
  },
  {
   "cell_type": "markdown",
   "id": "dad4d146-ac6b-42ca-aaa3-3471cf06bd50",
   "metadata": {},
   "source": [
    "### Q2. Describe the difference between the effects of &quot;(ab)c+&quot; and &quot;a(bc)+.&quot; Which of these, if any, is the unqualified pattern &quot;abc+&quot;?"
   ]
  },
  {
   "cell_type": "markdown",
   "id": "0407babb-45d8-4fac-83e4-18b94670504b",
   "metadata": {},
   "source": [
    "The regular expressions \"(ab)c+\" and \"a(bc)+\" have different effects and match different patterns. \"(ab)c+\" matches sequences like \"abc\" and \"abccc\", while \"a(bc)+\" matches sequences like \"abc\", \"abcbc\", and \"abcbcbc\". The unqualified pattern \"abc+\" matches sequences like \"abc\", \"abcc\", and \"abccc\". Each pattern captures distinct patterns within the given text sequences."
   ]
  },
  {
   "cell_type": "markdown",
   "id": "b2d2427a-1849-4e8b-b2ad-d3ff5534e217",
   "metadata": {},
   "source": [
    "### Q3. How much do you need to use the following sentence while using regular expressions? import re"
   ]
  },
  {
   "cell_type": "markdown",
   "id": "14772f44-3257-4657-b3d5-7e374c6ee7f9",
   "metadata": {},
   "source": [
    "\n",
    "\n",
    "To use regular expressions in Python, you need to import the \"re\" module. The \"re\" module provides functions and methods for working with regular expressions. Therefore, you need to include the following line at the beginning of your Python script or program."
   ]
  },
  {
   "cell_type": "markdown",
   "id": "f7239212-faa4-491b-92cd-bf7a48e4111d",
   "metadata": {},
   "source": [
    "### Q4. Which characters have special significance in square brackets when expressing a range, and under what circumstances?"
   ]
  },
  {
   "cell_type": "markdown",
   "id": "a8d1a51f-757c-4166-ae2e-779b159d73cb",
   "metadata": {},
   "source": [
    "- ^ negates the range. For example, [^a-z] will match any character that is not a lowercase letter.\n",
    "- `-` specifies a range of characters. For example, [a-z-A-Z] will match any character from lowercase a to lowercase z, or from uppercase A to uppercase Z.\n",
    "- \\ escapes the next character. For example, [\\\\] will match a literal square bracket.\n",
    "\n",
    "These characters only have special significance when they are used inside square brackets.\n",
    "\n",
    "Outside of square brackets, they are interpreted as their literal meaning."
   ]
  },
  {
   "cell_type": "markdown",
   "id": "fcd28e53-e1b6-4207-a2dd-bea795952440",
   "metadata": {},
   "source": [
    "### Q5. How does compiling a regular-expression object benefit you?"
   ]
  },
  {
   "cell_type": "markdown",
   "id": "7d7f0a02-bb62-4fd3-bda5-4d8d35eab48c",
   "metadata": {},
   "source": [
    "Compiling a regular expression object in Python provides the following benefits:\n",
    "\n",
    "- Performance: Compilation improves matching speed by applying optimizations.\n",
    "- Reusability: The compiled object can be reused, reducing redundancy in code.\n",
    "- Convenient Methods: Access to various methods for pattern matching and text manipulation.\n",
    "- Readability: Compiling with a descriptive name enhances code comprehension.\n",
    "- Error Checking: Syntax errors or invalid patterns are detected during compilation."
   ]
  },
  {
   "cell_type": "markdown",
   "id": "1bd1f6d6-7068-4007-aca5-a351438e70d7",
   "metadata": {},
   "source": [
    "### Q6. What are some examples of how to use the match object returned by re.match and re.search?"
   ]
  },
  {
   "cell_type": "code",
   "execution_count": 1,
   "id": "4abf0609-5682-4a01-aca3-1d4d51ba86e4",
   "metadata": {},
   "outputs": [
    {
     "name": "stdout",
     "output_type": "stream",
     "text": [
      "42\n",
      "10 20\n",
      "10 15\n",
      "(0, 5) 5\n"
     ]
    }
   ],
   "source": [
    "import re\n",
    "\n",
    "# Example 1: Extracting the Matched Text\n",
    "text1 = 'I have 42 apples and 123 oranges.'\n",
    "match1 = re.search(r'\\d+', text1)\n",
    "print(match1.group()) \n",
    "\n",
    "# Example 2: Extracting Matched Groups\n",
    "text2 = 'Start: 10-20'\n",
    "match2 = re.search(r'(\\d+)-(\\d+)', text2)\n",
    "print(match2.group(1), match2.group(2)) \n",
    "\n",
    "# Example 3: Accessing Match Start and End Positions\n",
    "text3 = 'I have an apple'\n",
    "match3 = re.search(r'apple', text3)\n",
    "print(match3.start(), match3.end())  \n",
    "\n",
    "# Example 4: Using Match Attributes\n",
    "text4 = 'Hello, world!'\n",
    "match4 = re.match(r'\\w+', text4)\n",
    "print(match4.span(), match4.end() - match4.start())  \n"
   ]
  },
  {
   "cell_type": "markdown",
   "id": "65f911d5-df70-4f42-bfbc-99685efb87c9",
   "metadata": {},
   "source": [
    "### Q7. What is the difference between using a vertical bar (|) as an alteration and using square brackets as a character set?"
   ]
  },
  {
   "cell_type": "markdown",
   "id": "9e5ea2fa-7869-4f96-b7f6-45ab2182c2e9",
   "metadata": {},
   "source": [
    "The vertical bar (|) is used for alternation, allowing you to specify multiple alternatives, while square brackets ([]) are used to define a character set, specifying a range or set of characters that you want to match."
   ]
  },
  {
   "cell_type": "markdown",
   "id": "ffabb35f-8743-4ad8-abb5-a8d1098c33a9",
   "metadata": {},
   "source": [
    "### Q8. In regular-expression search patterns, why is it necessary to use the raw-string indicator (r)? In  replacement strings?"
   ]
  },
  {
   "cell_type": "markdown",
   "id": "c4a8a23b-f6d4-4ba7-9021-121b57cf7c1f",
   "metadata": {},
   "source": [
    "- Raw-string indicator (r) is used in regular expression search patterns to treat backslashes (\\) literally, preventing unintended escape sequence interpretation.\n",
    "- It improves readability by avoiding the need to escape backslashes with additional backslashes.\n",
    "- In replacement strings, the raw-string indicator is generally not necessary as they don't contain escape sequences conflicting with regular expression syntax."
   ]
  },
  {
   "cell_type": "code",
   "execution_count": null,
   "id": "4495bda8-d504-499f-90fa-fb3f79e6a640",
   "metadata": {},
   "outputs": [],
   "source": []
  }
 ],
 "metadata": {
  "kernelspec": {
   "display_name": "Python 3 (ipykernel)",
   "language": "python",
   "name": "python3"
  },
  "language_info": {
   "codemirror_mode": {
    "name": "ipython",
    "version": 3
   },
   "file_extension": ".py",
   "mimetype": "text/x-python",
   "name": "python",
   "nbconvert_exporter": "python",
   "pygments_lexer": "ipython3",
   "version": "3.10.6"
  }
 },
 "nbformat": 4,
 "nbformat_minor": 5
}
