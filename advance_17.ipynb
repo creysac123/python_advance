{
 "cells": [
  {
   "cell_type": "markdown",
   "id": "56f3b55b-21b0-4a2b-b3d9-978776c22513",
   "metadata": {},
   "source": [
    "### Q1. Explain the difference between greedy and non-greedy syntax with visual terms in as few words as possible. What is the bare minimum effort required to transform a greedy pattern into a non-greedy one? What characters or characters can you introduce or change?"
   ]
  },
  {
   "cell_type": "markdown",
   "id": "cbe9c7f2-e296-46a4-9364-a56332fd166a",
   "metadata": {},
   "source": [
    "- Greedy quantifiers (*, +, ?, {m,n}) match as much as possible.\n",
    "- Non-greedy quantifiers (*?, +?, ??, {m,n}?) match as little as possible.\n",
    "- Greedy to non-greedy transformation is achieved by adding a ? after the quantifier.\n",
    "- This change requires minimal effort by introducing or changing the ? character.\n",
    "- Greedy matching consumes the maximum number of characters, while non-greedy matching consumes the minimum necessary."
   ]
  },
  {
   "cell_type": "code",
   "execution_count": 1,
   "id": "70aad407-c091-4197-8e06-f5d4f275a2d4",
   "metadata": {},
   "outputs": [
    {
     "name": "stdout",
     "output_type": "stream",
     "text": [
      "abcxyzabcxyz\n",
      "abcxyz\n"
     ]
    }
   ],
   "source": [
    "import re\n",
    "\n",
    "text = 'abcxyzabcxyz'\n",
    "\n",
    "# Greedy matching\n",
    "greedy_match = re.search(r'abc.*xyz', text)\n",
    "print(greedy_match.group())  # Output: abcxyzabcxyz\n",
    "\n",
    "# Non-greedy matching\n",
    "non_greedy_match = re.search(r'abc.*?xyz', text)\n",
    "print(non_greedy_match.group())  # Output: abcxyz\n"
   ]
  },
  {
   "cell_type": "markdown",
   "id": "f46a5feb-b721-40f5-bfa5-458775c8c4b8",
   "metadata": {},
   "source": [
    "### Q2. When exactly does greedy versus non-greedy make a difference?  What if you&#39;re looking for a non-greedy match but the only one available is greedy?"
   ]
  },
  {
   "cell_type": "markdown",
   "id": "c9789bc8-2c43-478a-a759-8dd477ab3823",
   "metadata": {},
   "source": [
    "- Greedy versus non-greedy matching matters when there are multiple potential matches.\n",
    "- If only a greedy match is available but you need a non-greedy result, you can modify the pattern or use additional constraints.\n",
    "- Modifying the pattern or applying additional logic can make a greedy match behave like a non-greedy one."
   ]
  },
  {
   "cell_type": "markdown",
   "id": "97b58696-71e7-47af-a479-9300528129f6",
   "metadata": {},
   "source": [
    "### Q3. In a simple match of a string, which looks only for one match and does not do any replacement, is the use of a nontagged group likely to make any practical difference?"
   ]
  },
  {
   "cell_type": "markdown",
   "id": "670dd1a1-87bd-46ec-a10d-d5d5a8ad05c8",
   "metadata": {},
   "source": [
    "In a simple match of a string, the use of a nontagged group (also known as a non-capturing group) is not likely to make any practical difference. A non-capturing group means that it will not store the text matched by the pattern in the group. It doesn’t mean that the text is not matched by the whole regex1."
   ]
  },
  {
   "cell_type": "code",
   "execution_count": 14,
   "id": "841e2441-3b8a-4d73-979d-4cae94e7c966",
   "metadata": {},
   "outputs": [
    {
     "name": "stdout",
     "output_type": "stream",
     "text": [
      "Phone number found -> 234\n",
      "Phone number found -> 234\n"
     ]
    }
   ],
   "source": [
    "import re\n",
    "phoneNumRegex = re.compile(r'\\d\\d\\d')\n",
    "num = phoneNumRegex.search('My number is 234-567-8901.')\n",
    "print(f'Phone number found -> {num.group()}') # Non Tagged group\n",
    "print(f'Phone number found -> {num.group(0)}') # Tagged Group"
   ]
  },
  {
   "cell_type": "markdown",
   "id": "e0c58652-7d22-42cd-a73f-8f38c5fb43d4",
   "metadata": {},
   "source": [
    "### Q4. Describe a scenario in which using a nontagged category would have a significant impact on the program&#39;s outcomes."
   ]
  },
  {
   "cell_type": "code",
   "execution_count": 15,
   "id": "10dc92ce-b664-4466-87d8-955548ca8f82",
   "metadata": {},
   "outputs": [
    {
     "name": "stdout",
     "output_type": "stream",
     "text": [
      "Tagged Category Match: cats\n",
      "Non-Tagged Category Match: cats\n"
     ]
    }
   ],
   "source": [
    "import re\n",
    "\n",
    "string = \"I love cats and dogs.\"\n",
    "\n",
    "# Tagged Category (Capturing Group)\n",
    "pattern_tagged = r\"(cats|dogs)\"\n",
    "match_tagged = re.search(pattern_tagged, string)\n",
    "if match_tagged:\n",
    "    print(\"Tagged Category Match:\", match_tagged.group(1))  # Output: cats\n",
    "\n",
    "# Non-Tagged Category (Non-Capturing Group)\n",
    "pattern_non_tagged = r\"(?:cats|dogs)\"\n",
    "match_non_tagged = re.search(pattern_non_tagged, string)\n",
    "if match_non_tagged:\n",
    "    print(\"Non-Tagged Category Match:\", match_non_tagged.group())  # Output: cats\n"
   ]
  },
  {
   "cell_type": "markdown",
   "id": "4ffcc2b5-47ea-432f-bebc-6e8a81fd0f31",
   "metadata": {},
   "source": [
    "- Group Count: It helps avoid increasing the group count in the match result, simplifying the output when specific group references are not needed.\n",
    "\n",
    "- Simplified Match Result: Non-tagged categories simplify the match result by eliminating unnecessary groups, focusing on the overall pattern match rather than individual groups.\n",
    "\n",
    "- Memory and Performance: Non-tagged categories require less memory and can improve performance by not creating additional groups in the match result."
   ]
  },
  {
   "cell_type": "markdown",
   "id": "558a605e-86a2-4002-bbf3-f0a78162f342",
   "metadata": {},
   "source": [
    "### Q5. Unlike a normal regex pattern, a look-ahead condition does not consume the characters it examines. Describe a situation in which this could make a difference in the results of your programme."
   ]
  },
  {
   "cell_type": "markdown",
   "id": "78ab6389-6826-4eb1-baf0-bcac1522902f",
   "metadata": {},
   "source": [
    "A look-ahead condition in a regular expression allows you to specify a condition that must be met after a certain pattern without consuming the characters it examines. This can make a difference in the results of your program in situations where you want to enforce a specific condition without including it in the actual match."
   ]
  },
  {
   "cell_type": "code",
   "execution_count": 18,
   "id": "aaae4c38-1d60-47e7-8e20-9daa2bf58ddb",
   "metadata": {},
   "outputs": [
    {
     "name": "stdout",
     "output_type": "stream",
     "text": [
      "Price: 100\n",
      "Price: 300\n"
     ]
    }
   ],
   "source": [
    "import re\n",
    "\n",
    "prices = [\"100 USD\", \"200 EUR\", \"300 USD\", \"400 GBP\"]\n",
    "pattern = r\"\\d+(?= USD)\"\n",
    "\n",
    "for price in prices:\n",
    "    match = re.search(pattern, price)\n",
    "    if match:\n",
    "        print(\"Price:\", match.group())"
   ]
  },
  {
   "cell_type": "markdown",
   "id": "d0f6e8f3-b68b-4fda-8183-8ed8e07c02ca",
   "metadata": {},
   "source": [
    "### Q6. In standard expressions, what is the difference between positive look-ahead and negative look-ahead?"
   ]
  },
  {
   "cell_type": "markdown",
   "id": "c22dc845-9fff-4a5a-9bc7-2aa5ac5c421f",
   "metadata": {},
   "source": [
    "- Positive Look-ahead ((?=pattern)) in regular expressions asserts that a specific pattern must follow the current position without including it in the match. It ensures that the pattern is only considered a match if it is immediately followed by the specified pattern.\n",
    "\n",
    "- Negative Look-ahead ((?!pattern)) asserts that a specific pattern must not follow the current position. It ensures that the pattern is considered a match only if it is not followed by the specified pattern."
   ]
  },
  {
   "cell_type": "markdown",
   "id": "815d2c9a-b642-45f8-83f2-0c8ffb9ba9f0",
   "metadata": {},
   "source": [
    "### Q7. What is the benefit of referring to groups by name rather than by number in a standard expression?"
   ]
  },
  {
   "cell_type": "markdown",
   "id": "679bb10e-b5d5-4b26-ae3e-405cdec5a3ae",
   "metadata": {},
   "source": [
    "Referring to groups by name instead of number in a regular expression offers the following benefits:\n",
    "\n",
    "- Readability: Group names make the regular expression more readable and easier to understand.\n",
    "\n",
    "- Self-Documentation: Group names act as documentation within the regular expression, conveying the purpose of each captured group.\n",
    "\n",
    "- Flexibility: Group names provide flexibility when modifying or rearranging the regular expression, as the code remains unaffected even if the group order changes.\n",
    "\n",
    "- Named Group Access: Using group names allows direct access to the captured portions, simplifying post-processing tasks and extraction of specific information.\n",
    "\n",
    "- Code Clarity: Named groups improve code clarity, making it easier for other developers to understand the intended structure of the match."
   ]
  },
  {
   "cell_type": "markdown",
   "id": "8e4485db-015f-410b-b1e5-d6c9da76a8d2",
   "metadata": {},
   "source": [
    "### Q8. Can you identify repeated items within a target string using named groups, as in &quot;The cow jumped over the moon&quot;?"
   ]
  },
  {
   "cell_type": "code",
   "execution_count": 32,
   "id": "95a5949f-0e55-4ef6-b512-0cdca3d7569e",
   "metadata": {},
   "outputs": [
    {
     "name": "stdout",
     "output_type": "stream",
     "text": [
      "Repeated word: The\n"
     ]
    }
   ],
   "source": [
    "import re\n",
    "\n",
    "string = \"The cow jumped over the Moon\"\n",
    "pattern = r\"\\b(?P<word>\\w+)\\b.*\\b(?P=word)\\b\"\n",
    "regex = re.compile(pattern, re.IGNORECASE)\n",
    "\n",
    "match = regex.search(string)\n",
    "if match:\n",
    "    print(\"Repeated word:\", match.group(\"word\"))\n",
    "else:\n",
    "    print(\"No repeated words found\")\n"
   ]
  },
  {
   "cell_type": "markdown",
   "id": "2dfa4cb3-5f87-435b-9494-f0bafe7684df",
   "metadata": {},
   "source": [
    "### Q9. When parsing a string, what is at least one thing that the Scanner interface does for you that the re.findall feature does not ?"
   ]
  },
  {
   "cell_type": "markdown",
   "id": "ac74ec11-91d9-4d6c-87a7-c054f2fab8bc",
   "metadata": {},
   "source": [
    "The Scanner interface and the re.findall feature are two different tools for parsing strings. One key difference is that the Scanner interface provides more flexibility in terms of how you can parse the input text, while re.findall is a more specialized tool for finding all occurrences of a regular expression pattern in a string."
   ]
  },
  {
   "cell_type": "markdown",
   "id": "a800dce5-136f-4173-aef4-6640f0dadcf0",
   "metadata": {},
   "source": [
    "### Q10. Does a scanner object have to be named scanner?"
   ]
  },
  {
   "cell_type": "markdown",
   "id": "18e6be29-d0cd-4eaf-9c07-3251cecd877c",
   "metadata": {},
   "source": [
    "No, a Scanner object does not have to be named \"scanner.\" You can choose any valid variable name for your Scanner object. The name of the variable is up to you and can be chosen based on your preferred naming conventions or to reflect the purpose of the Scanner object in your code."
   ]
  },
  {
   "cell_type": "code",
   "execution_count": null,
   "id": "6ca0a7cd-c98d-4bee-8256-fb29a17d00e8",
   "metadata": {},
   "outputs": [],
   "source": []
  }
 ],
 "metadata": {
  "kernelspec": {
   "display_name": "Python 3 (ipykernel)",
   "language": "python",
   "name": "python3"
  },
  "language_info": {
   "codemirror_mode": {
    "name": "ipython",
    "version": 3
   },
   "file_extension": ".py",
   "mimetype": "text/x-python",
   "name": "python",
   "nbconvert_exporter": "python",
   "pygments_lexer": "ipython3",
   "version": "3.10.6"
  }
 },
 "nbformat": 4,
 "nbformat_minor": 5
}
