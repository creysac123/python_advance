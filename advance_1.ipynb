{
 "cells": [
  {
   "cell_type": "markdown",
   "id": "958cabdb-4415-4962-82e7-3e3a957dc4fc",
   "metadata": {},
   "source": [
    "### Q1. What is the purpose of Python&#39;s OOP?"
   ]
  },
  {
   "cell_type": "markdown",
   "id": "3c49d3f8-9723-4682-912b-ef9efb87be51",
   "metadata": {},
   "source": [
    "Modularity: OOP helps break down complex systems into smaller, self-contained modules called classes, making code more organized and manageable.\n",
    "\n",
    "Reusability: Classes allow developers to create reusable code, saving time and effort by leveraging existing implementations for similar functionality.\n",
    "\n",
    "Encapsulation: OOP promotes encapsulation, hiding internal implementation details and exposing only necessary interfaces, improving code maintainability and data privacy.\n",
    "\n",
    "Inheritance: Inheritance enables the creation of new classes based on existing ones, allowing code reuse, promoting a hierarchical structure, and facilitating polymorphism.\n",
    "\n",
    "Polymorphism: Polymorphism allows objects of different classes to be used interchangeably, enhancing code flexibility and extensibility."
   ]
  },
  {
   "cell_type": "markdown",
   "id": "62ebc836-ef71-404a-b32f-d85c443739e0",
   "metadata": {},
   "source": [
    "### Q2. Where does an inheritance search look for an attribute?"
   ]
  },
  {
   "cell_type": "markdown",
   "id": "0cea1f09-aa17-498a-a356-e9a99c292ec6",
   "metadata": {},
   "source": [
    "An inheritance search looks for an attribute first in the instance object, then in the class the instance was created from, then in all higher superclasses, progressing from left to right (by default)."
   ]
  },
  {
   "cell_type": "markdown",
   "id": "8e2f2b91-a810-42b3-ba6a-269cab8f8d5b",
   "metadata": {},
   "source": [
    "### Q3. How do you distinguish between a class object and an instance object?"
   ]
  },
  {
   "cell_type": "markdown",
   "id": "4c2b8cb4-3ac2-475d-ba28-a280a2066c1f",
   "metadata": {},
   "source": [
    "#### Class Object:\n",
    "\n",
    "A class object is created when a class is defined.\n",
    "\n",
    "It serves as a blueprint or template for creating instances of the class.\n",
    "\n",
    "It defines the structure, behavior, and attributes that instances of the class will possess.\n",
    "\n",
    "Class objects are used to create new instances by calling the class as a function.\n",
    "\n",
    "Class attributes and methods are accessed using the class name itself."
   ]
  },
  {
   "cell_type": "markdown",
   "id": "943b067e-c103-4de9-bb58-758a7f87b2e0",
   "metadata": {},
   "source": [
    "#### Instance Object:\n",
    "\n",
    "An instance object is created when the class is instantiated, i.e., when an instance of the class is created.\n",
    "\n",
    "It represents a specific occurrence or individual object created from the class.\n",
    "\n",
    "Each instance has its own set of attributes, which may differ from other instances.\n",
    "\n",
    "Instance objects can access both the class attributes and methods, as well as have their own unique attributes.\n",
    "\n",
    "They are created by calling the class object as a function, similar to creating a new instance."
   ]
  },
  {
   "cell_type": "markdown",
   "id": "3f9efaea-bbf3-4b5b-bf7c-8b96e8942164",
   "metadata": {},
   "source": [
    "### Q4. What makes the first argument in a class’s method function special?"
   ]
  },
  {
   "cell_type": "markdown",
   "id": "f27e7921-74ff-495d-ba92-698bfb1372c4",
   "metadata": {},
   "source": [
    "The first argument in a class's method function, conventionally named self, is special because it refers to the instance of the class itself. It allows the method to access and manipulate the instance's attributes and data."
   ]
  },
  {
   "cell_type": "markdown",
   "id": "0ff4d5ca-bfa6-4423-af44-c1ca6f6adc48",
   "metadata": {},
   "source": [
    "### Q5. What is the purpose of the init method?"
   ]
  },
  {
   "cell_type": "markdown",
   "id": "900d17a3-3893-497a-bb6d-f2d4293dd417",
   "metadata": {},
   "source": [
    "The purpose of the __init__ method is to initialize the state of an object by assigning values to its attributes. It is automatically called when a new instance of a class is created and allows customization and parameter passing during object initialization."
   ]
  },
  {
   "cell_type": "markdown",
   "id": "b6d32c8b-eff9-4aea-83e6-d2230191c5f1",
   "metadata": {},
   "source": [
    "### Q6. What is the process for creating a class instance?"
   ]
  },
  {
   "cell_type": "markdown",
   "id": "0f5f3481-1dd4-441b-9ea3-b7d309aafff0",
   "metadata": {},
   "source": [
    "To create a class instance in Python:\n",
    "\n",
    "Define the class with its attributes and methods.\n",
    "\n",
    "Instantiate the class by calling it like a function, passing any required arguments.\n",
    "\n",
    "Assign the returned instance to a variable."
   ]
  },
  {
   "cell_type": "code",
   "execution_count": 1,
   "id": "23b6b8fa-2af0-44e1-bbd6-2aa2f05701b7",
   "metadata": {},
   "outputs": [
    {
     "name": "stdout",
     "output_type": "stream",
     "text": [
      "Hello, my name is Alice!\n"
     ]
    }
   ],
   "source": [
    "class Person:\n",
    "    def __init__(self, name):\n",
    "        self.name = name\n",
    "\n",
    "    def greet(self):\n",
    "        print(f\"Hello, my name is {self.name}!\")\n",
    "\n",
    "person = Person(\"Alice\")\n",
    "person.greet()\n"
   ]
  },
  {
   "cell_type": "markdown",
   "id": "e50b5504-dab9-4974-a7ab-442c6cef91f9",
   "metadata": {},
   "source": [
    "### Q7. What is the process for creating a class?"
   ]
  },
  {
   "cell_type": "markdown",
   "id": "fc243314-c923-43f3-bbb2-183b682cd287",
   "metadata": {},
   "source": [
    "To create a class in Python:\n",
    "\n",
    "Use the class keyword followed by the class name.\n",
    "\n",
    "Define the class attributes and methods inside the class block.\n",
    "\n",
    "(Optional) Define the __init__ method to initialize the class attributes."
   ]
  },
  {
   "cell_type": "code",
   "execution_count": 2,
   "id": "11768252-e8a1-4f8a-a248-a1b208d3162b",
   "metadata": {},
   "outputs": [
    {
     "name": "stdout",
     "output_type": "stream",
     "text": [
      "red\n",
      "Engine started\n",
      "30\n",
      "0\n"
     ]
    }
   ],
   "source": [
    "class Car:\n",
    "    color = \"red\"\n",
    "    speed = 0\n",
    "\n",
    "    def start(self):\n",
    "        print(\"Engine started\")\n",
    "\n",
    "    def accelerate(self, increment):\n",
    "        self.speed += increment\n",
    "\n",
    "    def stop(self):\n",
    "        self.speed = 0\n",
    "\n",
    "car = Car()  \n",
    "print(car.color) \n",
    "car.start() \n",
    "car.accelerate(30)\n",
    "print(car.speed)  \n",
    "car.stop()\n",
    "print(car.speed)  \n"
   ]
  },
  {
   "cell_type": "markdown",
   "id": "61950ab9-e3ea-4e1b-9bb3-f4e80e79b172",
   "metadata": {},
   "source": [
    "### Q8. How would you define the superclasses of a class?"
   ]
  },
  {
   "cell_type": "markdown",
   "id": "5e787efa-f7ec-42db-ac5a-356bf571d3b3",
   "metadata": {},
   "source": [
    "The class from which a class inherits is called the parent or superclass. A class which inherits from a superclass is called a subclass, also called heir class or child class."
   ]
  },
  {
   "cell_type": "code",
   "execution_count": 3,
   "id": "2149f203-4a0f-4e5d-805f-183b78690a39",
   "metadata": {},
   "outputs": [
    {
     "name": "stdout",
     "output_type": "stream",
     "text": [
      "Driving...\n",
      "Accelerating...\n"
     ]
    }
   ],
   "source": [
    "class Vehicle:\n",
    "    def drive(self):\n",
    "        print(\"Driving...\")\n",
    "\n",
    "class Car(Vehicle):\n",
    "    def accelerate(self):\n",
    "        print(\"Accelerating...\")\n",
    "\n",
    "car = Car()\n",
    "car.drive()\n",
    "car.accelerate()\n"
   ]
  },
  {
   "cell_type": "code",
   "execution_count": null,
   "id": "955f5026-e789-4bd9-9855-dfdef3c76e59",
   "metadata": {},
   "outputs": [],
   "source": []
  }
 ],
 "metadata": {
  "kernelspec": {
   "display_name": "Python 3 (ipykernel)",
   "language": "python",
   "name": "python3"
  },
  "language_info": {
   "codemirror_mode": {
    "name": "ipython",
    "version": 3
   },
   "file_extension": ".py",
   "mimetype": "text/x-python",
   "name": "python",
   "nbconvert_exporter": "python",
   "pygments_lexer": "ipython3",
   "version": "3.10.6"
  }
 },
 "nbformat": 4,
 "nbformat_minor": 5
}
