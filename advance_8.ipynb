{
 "cells": [
  {
   "cell_type": "markdown",
   "id": "e69a705f-7139-4a50-b5c5-a8891c56b819",
   "metadata": {},
   "source": [
    "### Q1. What are the two latest user-defined exception constraints in Python 3.X?"
   ]
  },
  {
   "cell_type": "markdown",
   "id": "f16d273c-e5a8-42c7-9c21-54aef7964a48",
   "metadata": {},
   "source": [
    "`raise` and `assert` are the two latest user-defined exception constraints in Python 3.X"
   ]
  },
  {
   "cell_type": "markdown",
   "id": "bb426081-ce7d-4044-9802-07d5deb69bba",
   "metadata": {},
   "source": [
    "### Q2. How are class-based exceptions that have been raised matched to handlers?"
   ]
  },
  {
   "cell_type": "markdown",
   "id": "24149383-f781-410f-9873-2d38acecefd6",
   "metadata": {},
   "source": [
    " In python, Users can define custom exceptions by creating a new class. This exception class has to be derived, either directly or indirectly from built-in Exception class. This new exception class like other exceptions can be raised using the raise statement with an optional error message."
   ]
  },
  {
   "cell_type": "code",
   "execution_count": 1,
   "id": "b598c45e-b9fc-4b7d-a28e-5e05c9997a7e",
   "metadata": {},
   "outputs": [
    {
     "ename": "ToYoungException",
     "evalue": "To Young For Voting",
     "output_type": "error",
     "traceback": [
      "\u001b[0;31m---------------------------------------------------------------------------\u001b[0m",
      "\u001b[0;31mToYoungException\u001b[0m                          Traceback (most recent call last)",
      "Cell \u001b[0;32mIn [1], line 5\u001b[0m\n\u001b[1;32m      3\u001b[0m         \u001b[38;5;28mself\u001b[39m\u001b[38;5;241m.\u001b[39mmsg \u001b[38;5;241m=\u001b[39m msg\n\u001b[1;32m      4\u001b[0m age \u001b[38;5;241m=\u001b[39m \u001b[38;5;241m12\u001b[39m\n\u001b[0;32m----> 5\u001b[0m \u001b[38;5;28;01mif\u001b[39;00m age \u001b[38;5;241m<\u001b[39m\u001b[38;5;241m=\u001b[39m \u001b[38;5;241m18\u001b[39m: \u001b[38;5;28;01mraise\u001b[39;00m ToYoungException(\u001b[38;5;124m'\u001b[39m\u001b[38;5;124mTo Young For Voting\u001b[39m\u001b[38;5;124m'\u001b[39m)\n",
      "\u001b[0;31mToYoungException\u001b[0m: To Young For Voting"
     ]
    }
   ],
   "source": [
    "class ToYoungException(Exception):\n",
    "    def __init__(self,msg):\n",
    "        self.msg = msg\n",
    "age = 12\n",
    "if age <= 18: raise ToYoungException('To Young For Voting')"
   ]
  },
  {
   "cell_type": "markdown",
   "id": "933665d9-c8db-4af5-a28d-24de03464574",
   "metadata": {},
   "source": [
    "### Q3. Describe two methods for attaching context information to exception artefacts ?"
   ]
  },
  {
   "cell_type": "markdown",
   "id": "d14952c0-9430-46a7-b1a9-133d1f1557fa",
   "metadata": {},
   "source": [
    "Adding Context in Exception Messages: One method for attaching context information to exception artifacts is by including relevant details in the exception message. When raising an exception, you can include additional information in the error message to provide context about the error. For example:"
   ]
  },
  {
   "cell_type": "code",
   "execution_count": 8,
   "id": "ea2bba51-6426-43f7-a105-7d53d301b366",
   "metadata": {},
   "outputs": [
    {
     "name": "stdout",
     "output_type": "stream",
     "text": [
      "Invalid input: 346. Expected value between 0 and 100.\n"
     ]
    }
   ],
   "source": [
    "try:\n",
    "    # Code that may raise an exception\n",
    "    raise ValueError(f\"Invalid input: {346}. Expected value between 0 and 100.\")\n",
    "except ValueError as e:\n",
    "    print(str(e))\n",
    "\n"
   ]
  },
  {
   "cell_type": "markdown",
   "id": "0d613268-1162-4933-8492-e1da6b2c84b7",
   "metadata": {},
   "source": [
    "Attaching Context as Exception Attributes: Another method is to attach context information as attributes to the exception object itself. You can define custom exception classes and include attributes to hold relevant context information. For example:"
   ]
  },
  {
   "cell_type": "code",
   "execution_count": 10,
   "id": "20089122-33d7-4fd8-9f5b-a4078819d4f3",
   "metadata": {},
   "outputs": [
    {
     "name": "stdout",
     "output_type": "stream",
     "text": [
      "Error occurred while processing data\n",
      "56\n"
     ]
    }
   ],
   "source": [
    "class DataProcessingException(Exception):\n",
    "    def __init__(self, message, data):\n",
    "        super().__init__(message)\n",
    "        self.data = data\n",
    "\n",
    "try:\n",
    "    # Code that may raise an exception during data processing\n",
    "    raise DataProcessingException(\"Error occurred while processing data\", data=56)\n",
    "except DataProcessingException as e:\n",
    "    print(str(e))\n",
    "    print(e.data)\n"
   ]
  },
  {
   "cell_type": "markdown",
   "id": "ed37d5dd-1dc1-44bc-b125-57a81d2c34a0",
   "metadata": {},
   "source": [
    "### Q4. Describe two methods for specifying the text of an exception object&#39;s error message."
   ]
  },
  {
   "cell_type": "markdown",
   "id": "2831d4dc-b1f0-4ed1-b4ed-24404c01eb25",
   "metadata": {},
   "source": [
    "Passing Error Message as Argument: One method for specifying the text of an exception object's error message is by passing it as an argument when raising the exception. By including a descriptive and informative error message as a string argument, you can provide meaningful context about the error. For example:"
   ]
  },
  {
   "cell_type": "code",
   "execution_count": 11,
   "id": "d6fb072a-91c6-4727-8348-883a27d417f7",
   "metadata": {},
   "outputs": [
    {
     "name": "stdout",
     "output_type": "stream",
     "text": [
      "Invalid value detected\n"
     ]
    }
   ],
   "source": [
    "try:\n",
    "    # Code that may raise an exception\n",
    "    raise ValueError(\"Invalid value detected\")\n",
    "except ValueError as e:\n",
    "    print(str(e))\n"
   ]
  },
  {
   "cell_type": "markdown",
   "id": "401ddae4-c055-4587-8f99-c43b28553130",
   "metadata": {},
   "source": [
    "Defining Custom Exception Classes: Another method is to define custom exception classes and specify the error message within the class definition. By creating your own exception classes, you have the flexibility to define the error message format and structure according to your needs. For example:"
   ]
  },
  {
   "cell_type": "code",
   "execution_count": 12,
   "id": "1a96dc00-33b6-4d43-b3ec-47acff155bbd",
   "metadata": {},
   "outputs": [
    {
     "name": "stdout",
     "output_type": "stream",
     "text": [
      "An error occurred during processing\n"
     ]
    }
   ],
   "source": [
    "class MyException(Exception):\n",
    "    def __init__(self, message):\n",
    "        super().__init__(message)\n",
    "\n",
    "try:\n",
    "    # Code that may raise an exception\n",
    "    raise MyException(\"An error occurred during processing\")\n",
    "except MyException as e:\n",
    "    print(str(e))\n"
   ]
  },
  {
   "cell_type": "markdown",
   "id": "1cabcbe5-86e5-406f-9a9a-4403d9d12ae5",
   "metadata": {},
   "source": [
    "### Q5. Why do you no longer use string-based exceptions?"
   ]
  },
  {
   "cell_type": "markdown",
   "id": "d0c3171a-5b59-41ad-8143-d6e26cc40564",
   "metadata": {},
   "source": [
    "Using class-based exceptions in Python offers advantages such as modularity, reusability, flexibility, and improved documentation. It promotes clean and structured error handling, leading to more robust and maintainable code."
   ]
  },
  {
   "cell_type": "code",
   "execution_count": null,
   "id": "9a67623c-e40b-4f7b-9a5f-6cbe7544e4bb",
   "metadata": {},
   "outputs": [],
   "source": []
  }
 ],
 "metadata": {
  "kernelspec": {
   "display_name": "Python 3 (ipykernel)",
   "language": "python",
   "name": "python3"
  },
  "language_info": {
   "codemirror_mode": {
    "name": "ipython",
    "version": 3
   },
   "file_extension": ".py",
   "mimetype": "text/x-python",
   "name": "python",
   "nbconvert_exporter": "python",
   "pygments_lexer": "ipython3",
   "version": "3.10.6"
  }
 },
 "nbformat": 4,
 "nbformat_minor": 5
}
