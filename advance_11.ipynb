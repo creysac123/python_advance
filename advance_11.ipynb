{
 "cells": [
  {
   "cell_type": "markdown",
   "id": "c63c558b-28e7-467f-ac32-45e8c321f30d",
   "metadata": {},
   "source": [
    "### Q1. What is the concept of a metaclass?"
   ]
  },
  {
   "cell_type": "markdown",
   "id": "4fbdf038-7bc9-46c9-925e-9965a1a6e5c3",
   "metadata": {},
   "source": [
    "A metaclass in Python is a class that defines the behavior and structure of other classes. It allows customization of class creation and behavior by providing methods and attributes that control class objects. Metaclasses can modify class attributes, add methods dynamically, and enforce constraints on class definitions. They are used in metaprogramming to create powerful frameworks and libraries, enabling advanced customization and control over class behavior."
   ]
  },
  {
   "cell_type": "code",
   "execution_count": 1,
   "id": "62f0aa9e-8910-4d63-b66a-3cc45daf18b3",
   "metadata": {},
   "outputs": [
    {
     "name": "stdout",
     "output_type": "stream",
     "text": [
      "42\n",
      "Hello, World!\n"
     ]
    }
   ],
   "source": [
    "class MyMeta(type):\n",
    "    def __new__(cls, name, bases, attrs):\n",
    "        # Modify attributes or behavior of the class\n",
    "        attrs['custom_attr'] = 42\n",
    "        attrs['custom_method'] = lambda self: \"Hello, World!\"\n",
    "        return super().__new__(cls, name, bases, attrs)\n",
    "\n",
    "class MyClass(metaclass=MyMeta):\n",
    "    pass\n",
    "\n",
    "obj = MyClass()\n",
    "print(obj.custom_attr)  \n",
    "print(obj.custom_method())  \n"
   ]
  },
  {
   "cell_type": "markdown",
   "id": "f074ac57-c90a-4187-916a-3fe36e760242",
   "metadata": {},
   "source": [
    "### Q2. What is the best way to declare a class&#39;s metaclass?"
   ]
  },
  {
   "cell_type": "markdown",
   "id": "7e383052-98fb-4073-83bd-57e3a6e92dd4",
   "metadata": {},
   "source": [
    "- Declaring the metaclass directly in the class definition.\n",
    "- Using the __metaclass__ attribute."
   ]
  },
  {
   "cell_type": "code",
   "execution_count": 7,
   "id": "5bd8c09a-44b2-420f-97e0-061162426c3d",
   "metadata": {},
   "outputs": [
    {
     "name": "stdout",
     "output_type": "stream",
     "text": [
      "Hello, world!\n"
     ]
    }
   ],
   "source": [
    "class MyMeta(type):\n",
    "    def __new__(cls, name, bases, attrs):\n",
    "        attrs[\"greeting\"] = \"Hello, world!\"\n",
    "        return super().__new__(cls, name, bases, attrs)\n",
    "\n",
    "class MyClass(metaclass=MyMeta):\n",
    "    pass\n",
    "\n",
    "obj = MyClass()\n",
    "print(obj.greeting)  # Output: Hello, world!\n"
   ]
  },
  {
   "cell_type": "code",
   "execution_count": 9,
   "id": "aafccb41-7f6d-4e31-9447-d63fe3311950",
   "metadata": {},
   "outputs": [
    {
     "name": "stdout",
     "output_type": "stream",
     "text": [
      "Hello\n"
     ]
    }
   ],
   "source": [
    "class MyMeta(type):\n",
    "    def __new__(cls, name, bases, attrs):\n",
    "        # Custom metaclass logic here\n",
    "        return super().__new__(cls, name, bases, attrs)\n",
    "\n",
    "class MyClass:\n",
    "    __metaclass__ = MyMeta\n",
    "\n",
    "    def __init__(self, value):\n",
    "        self.value = value\n",
    "\n",
    "obj = MyClass(\"Hello\")\n",
    "print(obj.value) \n"
   ]
  },
  {
   "cell_type": "markdown",
   "id": "ba778fbb-7cd8-4091-b37a-4c5815a161f6",
   "metadata": {},
   "source": [
    "### Q3. How do class decorators overlap with metaclasses for handling classes?"
   ]
  },
  {
   "cell_type": "markdown",
   "id": "04c03339-1da2-4100-a5fa-99c0aaa40d49",
   "metadata": {},
   "source": [
    "Class decorators:\n",
    "\n",
    "- Applied using @decorator syntax.\n",
    "- Operate on a class after it's defined but before it's used.\n",
    "- Can modify attributes and methods of the class.\n",
    "- Applied to individual classes.\n",
    "\n",
    "Metaclasses:\n",
    "\n",
    "- Define behavior of classes themselves.\n",
    "- Created by subclassing type metaclass or a custom metaclass.\n",
    "- Control class creation and behavior.\n",
    "- Can modify attributes, methods, and inheritance.\n",
    "- Applied during class definition, affecting all instances."
   ]
  },
  {
   "cell_type": "markdown",
   "id": "0e75c61f-e62e-4b02-ac70-145461cc1f49",
   "metadata": {},
   "source": [
    "Anything you can do with a class decorator, you can of course do with a custom metaclasses (just apply the functionality of the \"decorator function\", i.e., the one that takes a class object and modifies it, in the course of the metaclass's __new__ or __init__ that make the class object)"
   ]
  },
  {
   "cell_type": "markdown",
   "id": "eb8c5068-5f00-49ad-9f05-91554470993d",
   "metadata": {},
   "source": [
    "#### Q4. How do class decorators overlap with metaclasses for handling instances?"
   ]
  },
  {
   "cell_type": "markdown",
   "id": "5261bfe2-fb23-4d74-93b7-44e6b444d246",
   "metadata": {},
   "source": [
    "Class decorators:\n",
    "\n",
    "- Applied at the class level, not directly involved in instance handling.\n",
    "- Can modify class attributes and methods, which can indirectly affect instance behavior.\n",
    "- Typically used for adding functionality to classes rather than directly manipulating instances.\n",
    "\n",
    "Metaclasses:\n",
    "\n",
    "- Involved in the creation of class objects, which in turn create instances.\n",
    "- Can define custom behavior for instances through the __new__ or __init__ methods in the metaclass.\n",
    "- Can modify instance creation, initialization, and attributes directly at the metaclass level.\n",
    "- Provides more fine-grained control over instance behavior compared to class decorators."
   ]
  },
  {
   "cell_type": "markdown",
   "id": "2408b445-1526-419e-8aec-5134602edf2f",
   "metadata": {},
   "source": [
    "In summary, while class decorators primarily focus on modifying class-level behavior, metaclasses can directly influence instance creation and behavior by defining custom behavior at the metaclass level."
   ]
  },
  {
   "cell_type": "code",
   "execution_count": null,
   "id": "fd7dd79d-446c-46ed-88bf-4087673ca65d",
   "metadata": {},
   "outputs": [],
   "source": []
  }
 ],
 "metadata": {
  "kernelspec": {
   "display_name": "Python 3 (ipykernel)",
   "language": "python",
   "name": "python3"
  },
  "language_info": {
   "codemirror_mode": {
    "name": "ipython",
    "version": 3
   },
   "file_extension": ".py",
   "mimetype": "text/x-python",
   "name": "python",
   "nbconvert_exporter": "python",
   "pygments_lexer": "ipython3",
   "version": "3.10.6"
  }
 },
 "nbformat": 4,
 "nbformat_minor": 5
}
