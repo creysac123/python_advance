{
 "cells": [
  {
   "cell_type": "markdown",
   "id": "e379be2c-0a20-4671-97f1-e35efc6e9319",
   "metadata": {},
   "source": [
    "### Q1. What is the difference between __getattr__ and __getattribute__?"
   ]
  },
  {
   "cell_type": "markdown",
   "id": "520927c1-439c-4316-9dd8-b3146e7207cd",
   "metadata": {},
   "source": [
    "- `__getattr__` is invoked when an attribute is not found through normal attribute lookup, providing a fallback method to dynamically generate or retrieve attributes.\n",
    "- `__getattribute__` is called for every attribute access, intercepting all attribute lookups regardless of existence.\n",
    "- `__getattr__` is used for handling missing attributes, while `__getattribute__` is a more general-purpose method.\n",
    "- The choice between them depends on whether you want to handle missing attributes or intercept all attribute accesses."
   ]
  },
  {
   "cell_type": "markdown",
   "id": "9ffd33d8-8a59-44c8-be65-e9eacb7d6ba0",
   "metadata": {},
   "source": [
    "### Q2. What is the difference between properties and descriptors?"
   ]
  },
  {
   "cell_type": "markdown",
   "id": "050d1f4f-aa94-4e11-9a36-df8cb381fb77",
   "metadata": {},
   "source": [
    "Properties and descriptors are mechanisms in Python for customizing attribute access. \n",
    "\n",
    "- Properties provide a high-level way to define attribute access methods using the `@property` decorator. They encapsulate attribute access behind methods and offer a clean interface for accessing and modifying attributes.\n",
    "- Descriptors provide a lower-level approach by implementing the `__get__`, `__set__`, or `__delete__` methods. They offer more flexibility and control over attribute access by directly manipulating the descriptor object assigned to the attribute.\n",
    "\n",
    "In summary, properties are a convenient way to define attribute access methods, while descriptors offer more granular control over attribute access through direct implementation of descriptor protocols."
   ]
  },
  {
   "cell_type": "markdown",
   "id": "9247a171-b6df-4585-a65d-cc00c42d3e64",
   "metadata": {},
   "source": [
    "### Q3. What are the key differences in functionality between __getattr__ and __getattribute__, as well as properties and descriptors?"
   ]
  },
  {
   "cell_type": "markdown",
   "id": "13b4a288-3d72-4f17-930a-7bc112503191",
   "metadata": {},
   "source": [
    "- getattr is invoked when an attribute is not found through normal attribute lookup, allowing for dynamic attribute retrieval.\n",
    "- getattribute is called for every attribute access and intercepts all attribute lookups, providing a general mechanism for customizing attribute access.\n",
    "- Properties provide a convenient way to define attribute access methods (getter, setter, deleter) using decorators, encapsulating attribute access and offering clean and controlled access and modification of attributes.\n",
    "- Descriptors are lower-level objects that define the behavior of attribute access directly through descriptor classes, allowing for fine-grained control over attribute access by implementing the descriptor protocol."
   ]
  },
  {
   "cell_type": "code",
   "execution_count": null,
   "id": "44a54453-c743-42d9-bc47-73a3b260c8cf",
   "metadata": {},
   "outputs": [],
   "source": []
  }
 ],
 "metadata": {
  "kernelspec": {
   "display_name": "Python 3 (ipykernel)",
   "language": "python",
   "name": "python3"
  },
  "language_info": {
   "codemirror_mode": {
    "name": "ipython",
    "version": 3
   },
   "file_extension": ".py",
   "mimetype": "text/x-python",
   "name": "python",
   "nbconvert_exporter": "python",
   "pygments_lexer": "ipython3",
   "version": "3.10.6"
  }
 },
 "nbformat": 4,
 "nbformat_minor": 5
}
