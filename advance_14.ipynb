{
 "cells": [
  {
   "cell_type": "markdown",
   "id": "2496e83d-2f62-4eea-8fc6-f0f7a63c0fde",
   "metadata": {},
   "source": [
    "### Q1. Is an assignment operator like += only for show? Is it possible that it would lead to faster results at the runtime?"
   ]
  },
  {
   "cell_type": "markdown",
   "id": "b554337f-3bb8-49d2-aa9a-4caa90900d5e",
   "metadata": {},
   "source": [
    "No, the += assignment operator is not just for show. It can lead to faster results at runtime in certain scenarios, especially when working with mutable objects like lists or strings. It allows for in-place addition or concatenation, avoiding the overhead of creating new objects and improving performance. As memory address has to be identified once, += leads to faster operation."
   ]
  },
  {
   "cell_type": "markdown",
   "id": "35d6f85d-9c2b-4077-9013-4a39719e8871",
   "metadata": {},
   "source": [
    "### Q2. What is the smallest number of statements you&#39;d have to write in most programming languages to replace the Python expression a, b = a + b, a?"
   ]
  },
  {
   "cell_type": "markdown",
   "id": "93747e52-5330-43fa-9fb9-de218083e7bc",
   "metadata": {},
   "source": [
    "JavaScript:\n",
    "var temp = a + b;\n",
    "a = temp;\n",
    "b = a - b;"
   ]
  },
  {
   "cell_type": "code",
   "execution_count": null,
   "id": "24badae4-04b9-48d8-8530-5ff69cb0ccdf",
   "metadata": {},
   "outputs": [],
   "source": [
    "Java:\n",
    "int temp = a + b;\n",
    "a = temp;\n",
    "b = a - b;"
   ]
  },
  {
   "cell_type": "markdown",
   "id": "14c54597-344f-410f-9537-16b64a3cea06",
   "metadata": {},
   "source": [
    "Most languages take 3 lines to write the code to replace the expression a, b = a + b, a."
   ]
  },
  {
   "cell_type": "markdown",
   "id": "1776e916-aa53-4e88-9eb9-2c7cafff496e",
   "metadata": {},
   "source": [
    "### Q3. In Python, what is the most effective way to set a list of 100 integers to 0?"
   ]
  },
  {
   "cell_type": "code",
   "execution_count": 1,
   "id": "fdbf5f14-e89a-4d87-9ae1-8b8167133e04",
   "metadata": {},
   "outputs": [
    {
     "name": "stdout",
     "output_type": "stream",
     "text": [
      "[0, 0, 0, 0, 0, 0, 0, 0, 0, 0, 0, 0, 0, 0, 0, 0, 0, 0, 0, 0, 0, 0, 0, 0, 0, 0, 0, 0, 0, 0, 0, 0, 0, 0, 0, 0, 0, 0, 0, 0, 0, 0, 0, 0, 0, 0, 0, 0, 0, 0, 0, 0, 0, 0, 0, 0, 0, 0, 0, 0, 0, 0, 0, 0, 0, 0, 0, 0, 0, 0, 0, 0, 0, 0, 0, 0, 0, 0, 0, 0, 0, 0, 0, 0, 0, 0, 0, 0, 0, 0, 0, 0, 0, 0, 0, 0, 0, 0, 0, 0]\n"
     ]
    }
   ],
   "source": [
    "my_list = [0] * 100\n",
    "print(my_list)"
   ]
  },
  {
   "cell_type": "markdown",
   "id": "7c66b0b0-1fa7-4baa-b22a-d65f9a5aeabc",
   "metadata": {},
   "source": [
    "### Q4. What is the most effective way to initialise a list of 99 integers that repeats the sequence 1, 2, 3? S If necessary, show step-by-step instructions on how to accomplish this."
   ]
  },
  {
   "cell_type": "code",
   "execution_count": 4,
   "id": "8bae0767-61ac-4093-824d-7248f7623686",
   "metadata": {},
   "outputs": [
    {
     "name": "stdout",
     "output_type": "stream",
     "text": [
      "[1, 2, 3, 1, 2, 3, 1, 2, 3, 1, 2, 3, 1, 2, 3, 1, 2, 3, 1, 2, 3, 1, 2, 3, 1, 2, 3, 1, 2, 3, 1, 2, 3, 1, 2, 3, 1, 2, 3, 1, 2, 3, 1, 2, 3, 1, 2, 3, 1, 2, 3, 1, 2, 3, 1, 2, 3, 1, 2, 3, 1, 2, 3, 1, 2, 3, 1, 2, 3, 1, 2, 3, 1, 2, 3, 1, 2, 3, 1, 2, 3, 1, 2, 3, 1, 2, 3, 1, 2, 3, 1, 2, 3, 1, 2, 3, 1, 2, 3]\n"
     ]
    }
   ],
   "source": [
    "length = 99\n",
    "sequence = [1, 2, 3]\n",
    "repeated_list = [sequence[i % len(sequence)] for i in range(length)]\n",
    "print(repeated_list)"
   ]
  },
  {
   "cell_type": "markdown",
   "id": "c4d34088-a3b0-4ec1-809f-7eb23e161119",
   "metadata": {},
   "source": [
    "### Q5. If you&#39;re using IDLE to run a Python application, explain how to print a multidimensional list as efficiently?"
   ]
  },
  {
   "cell_type": "code",
   "execution_count": 9,
   "id": "52602d07-ced6-4310-91a7-1d3f2ca7ad7b",
   "metadata": {},
   "outputs": [
    {
     "name": "stdout",
     "output_type": "stream",
     "text": [
      "1 2 3 \n",
      "4 5 6 \n",
      "7 8 9 \n"
     ]
    }
   ],
   "source": [
    "my_list = [[1, 2, 3], [4, 5, 6], [7, 8, 9]]\n",
    "\n",
    "for row in my_list:\n",
    "    for element in row:\n",
    "        print(element, end=' ')\n",
    "    print()  # Prints a new line after each row\n"
   ]
  },
  {
   "cell_type": "markdown",
   "id": "e31fd412-71e7-404a-8cf6-a6a90629c0a9",
   "metadata": {},
   "source": [
    "### Q6. Is it possible to use list comprehension with a string? If so, how can you go about doing it?"
   ]
  },
  {
   "cell_type": "markdown",
   "id": "31b0a0c0-62ec-49c1-bde6-adc1a5040d3e",
   "metadata": {},
   "source": [
    "Yes. It is possible to use list comprehension with a string."
   ]
  },
  {
   "cell_type": "code",
   "execution_count": 11,
   "id": "9d702172-6a07-42ce-9204-e8074f65b508",
   "metadata": {},
   "outputs": [
    {
     "name": "stdout",
     "output_type": "stream",
     "text": [
      "['H', 'e', 'l', 'l', 'o', ',', ' ', 'W', 'o', 'r', 'l', 'd', '!']\n",
      "[72, 101, 108, 108, 111, 44, 32, 87, 111, 114, 108, 100, 33]\n",
      "['e', 'o', 'o']\n"
     ]
    }
   ],
   "source": [
    "my_string = \"Hello, World!\"\n",
    "\n",
    "char_list = [char for char in my_string]\n",
    "print(char_list)\n",
    "\n",
    "ascii_list = [ord(char) for char in my_string]\n",
    "print(ascii_list)\n",
    "\n",
    "vowels = [char for char in my_string if char.lower() in 'aeiou']\n",
    "print(vowels)"
   ]
  },
  {
   "cell_type": "markdown",
   "id": "cbe69b72-d358-4ee4-a9f5-e5763f56cb86",
   "metadata": {},
   "source": [
    "### Q7. From the command line, how do you get support with a user-written Python programme? Is this possible from inside IDLE?"
   ]
  },
  {
   "cell_type": "markdown",
   "id": "596d3c5c-c2ac-42f3-bbbe-fd5017473624",
   "metadata": {},
   "source": [
    "To get support with a user-written Python program from the command line, you can use the help() function or provide command-line arguments for usage information. In IDLE, you can use the help() function within your code or utilize the editor's features for code completion and tooltips."
   ]
  },
  {
   "cell_type": "markdown",
   "id": "db7f2a10-e2fe-4280-99bb-cfd7532cda36",
   "metadata": {},
   "source": [
    "### Q8. Functions are said to be “first-class objects” in Python but not in most other languages, such as C++ or Java. What can you do in Python with a function (callable object) that you can't do in C or C++?"
   ]
  },
  {
   "cell_type": "markdown",
   "id": "b780622f-ae09-4a47-9391-06d994a59ce0",
   "metadata": {},
   "source": [
    "In Python, functions are \"first-class objects,\" which means they can be treated like any other object. This allows you to:\n",
    "\n",
    "- Assign functions to variables.\n",
    "- Pass functions as arguments to other functions.\n",
    "- Return functions from other functions.\n",
    "- Store functions in data structures.\n",
    "- Create anonymous functions using lambda expressions.\n",
    "- Use functions as attributes of classes or objects."
   ]
  },
  {
   "cell_type": "markdown",
   "id": "46c170d2-5602-4c28-a2f4-96d830dd78f4",
   "metadata": {},
   "source": [
    "### Q9. How do you distinguish between a wrapper, a wrapped feature, and a decorator?"
   ]
  },
  {
   "cell_type": "markdown",
   "id": "3cbfadc3-3bd8-442c-ae63-6fe50fc9411d",
   "metadata": {},
   "source": [
    "- A wrapper is a general term for a function or class that encapsulates or modifies another function or class.\n",
    "- A wrapped feature is the original function or class that is being wrapped or modified by a wrapper.\n",
    "- A decorator is a specific type of wrapper that uses a special syntax in Python to modify the behavior of functions or classes without changing their source code directly."
   ]
  },
  {
   "cell_type": "markdown",
   "id": "456116b8-8190-427e-b2f7-e7814b74bcea",
   "metadata": {},
   "source": [
    "### Q10. If a function is a generator function, what does it return?"
   ]
  },
  {
   "cell_type": "markdown",
   "id": "c7b0e5ae-b94f-4e75-882c-62cae9e75bff",
   "metadata": {},
   "source": [
    "If a function is a generator function in Python, it does not return a specific value like regular functions. Instead, it returns a generator object. A generator function is defined using the yield keyword instead of the return keyword."
   ]
  },
  {
   "cell_type": "markdown",
   "id": "24145c6f-3b4f-4051-a569-564b1b6fefa2",
   "metadata": {},
   "source": [
    "### Q11. What is the one improvement that must be made to a function in order for it to become a generator function in the Python language?"
   ]
  },
  {
   "cell_type": "markdown",
   "id": "c115af51-3eb6-4be0-a5f8-0e7612c3bc4d",
   "metadata": {},
   "source": [
    "Generator is a written as normal function but uses yield keyword to return values instead of return keyword."
   ]
  },
  {
   "cell_type": "code",
   "execution_count": 13,
   "id": "452e906a-63d3-4ad4-a5a6-2eac81f4a72e",
   "metadata": {},
   "outputs": [
    {
     "name": "stdout",
     "output_type": "stream",
     "text": [
      "0 1 2 3 4 "
     ]
    }
   ],
   "source": [
    "def number_generator():\n",
    "    num = 0\n",
    "    while True:\n",
    "        yield num\n",
    "        num += 1\n",
    "\n",
    "# Create a generator object\n",
    "generator = number_generator()\n",
    "\n",
    "# Access the yielded values using a loop or next() function\n",
    "for _ in range(5):\n",
    "    print(next(generator),end=' ')\n"
   ]
  },
  {
   "cell_type": "markdown",
   "id": "94f14836-9220-4a30-8b62-369e3f8b3c5a",
   "metadata": {},
   "source": [
    "### Q12. Identify at least one benefit of generators."
   ]
  },
  {
   "cell_type": "markdown",
   "id": "3fe2bb1b-9544-4b34-96f8-63dee13a3349",
   "metadata": {},
   "source": [
    "- Memory efficiency: Generators generate values on-the-fly, reducing memory consumption compared to generating and storing all values at once.\n",
    "- Lazy evaluation: Values are computed only when needed, enabling efficient processing of large datasets or sequences.\n",
    "- Integration with iteration constructs: Generators seamlessly integrate with iteration constructs like for loops, simplifying code and improving readability.\n",
    "- Performance optimization: Generators avoid unnecessary computations and memory allocation, optimizing performance.\n",
    "- Handling infinite sequences: Generators can represent and work with infinite sequences without memory limitations."
   ]
  },
  {
   "cell_type": "code",
   "execution_count": null,
   "id": "0441cebc-d0a2-4665-9917-34bc828fe99c",
   "metadata": {},
   "outputs": [],
   "source": []
  }
 ],
 "metadata": {
  "kernelspec": {
   "display_name": "Python 3 (ipykernel)",
   "language": "python",
   "name": "python3"
  },
  "language_info": {
   "codemirror_mode": {
    "name": "ipython",
    "version": 3
   },
   "file_extension": ".py",
   "mimetype": "text/x-python",
   "name": "python",
   "nbconvert_exporter": "python",
   "pygments_lexer": "ipython3",
   "version": "3.10.6"
  }
 },
 "nbformat": 4,
 "nbformat_minor": 5
}
